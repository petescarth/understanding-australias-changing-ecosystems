{
 "metadata": {
  "name": "Vegetation_Data_Analysis"
 },
 "nbformat": 3,
 "nbformat_minor": 0,
 "worksheets": [
  {
   "cells": [
    {
     "cell_type": "heading",
     "level": 1,
     "metadata": {},
     "source": [
      "Vegetation Data Analysis"
     ]
    },
    {
     "cell_type": "markdown",
     "metadata": {},
     "source": [
      "<style type=\"text/css\">\n",
      "\ttable.tableizer-table {\n",
      "\tborder: 1px solid #CCC; font-family: Arial, Helvetica, sans-serif\n",
      "\tfont-size: 12px;\n",
      "} \n",
      ".tableizer-table td {\n",
      "\tpadding: 4px;\n",
      "\tmargin: 3px;\n",
      "\tborder: 1px solid #ccc;\n",
      "}\n",
      ".tableizer-table th {\n",
      "\tbackground-color: #104E8B; \n",
      "\tcolor: #FFF;\n",
      "\tfont-weight: bold;\n",
      "}\n",
      "</style><table class=\"tableizer-table\">\n",
      "<tr class=\"tableizer-firstrow\"><th>Year</th><th>year of survey</th></tr>\n",
      " <tr><td>MonthYear</td><td>month and year of survey identifier</td></tr>\n",
      " <tr><td>TripNo</td><td>arbitrary trip identifier</td></tr>\n",
      " <tr><td>SiteName</td><td>name of site</td></tr>\n",
      " <tr><td>SiteGrid</td><td>site and trapping grid code</td></tr>\n",
      " <tr><td>Species</td><td>species present</td></tr>\n",
      " <tr><td>AvgOf%cover</td><td>Mean %cover across grid, calc from 6 surveys around traps</td></tr>\n",
      " <tr><td>AvgOfFL</td><td>Mean flowering across grid, calc from 6 surveys around traps</td></tr>\n",
      " <tr><td>AvgOfSeed</td><td>Mean seeding across grid, calc from 6 surveys around traps</td></tr>\n",
      " <tr><td>dead/alive</td><td>Plant dead or alive</td></tr>\n",
      "</table>\n"
     ]
    },
    {
     "cell_type": "code",
     "collapsed": false,
     "input": [
      "import pandas\n",
      "\n",
      "!ls"
     ],
     "language": "python",
     "metadata": {},
     "outputs": [
      {
       "output_type": "stream",
       "stream": "stdout",
       "text": [
        "EarthEngine_Timeseries.ipynb  qryMeanVeg93-14_20140624_cleaner.csv\r\n",
        "eeHelper.py\t\t      qryMeanVeg93-14_20140624.cvs\r\n",
        "eeHelper.pyc\t\t      README.txt\r\n",
        "ExampleCollection.ipynb       Vegetation_Data_Analysis.ipynb\r\n"
       ]
      }
     ],
     "prompt_number": 35
    },
    {
     "cell_type": "heading",
     "level": 2,
     "metadata": {},
     "source": [
      "Read in the vegetation data into a Pandas data frame"
     ]
    },
    {
     "cell_type": "code",
     "collapsed": false,
     "input": [
      "vegData = pandas.read_csv('qryMeanVeg93-14_20140624_cleaner.csv')\n",
      "vegData"
     ],
     "language": "python",
     "metadata": {},
     "outputs": [
      {
       "output_type": "pyout",
       "prompt_number": 38,
       "text": [
        "<class 'pandas.core.frame.DataFrame'>\n",
        "Int64Index: 7332 entries, 0 to 7331\n",
        "Data columns:\n",
        "Year           7332  non-null values\n",
        "SiteName       7332  non-null values\n",
        "TripNo         7332  non-null values\n",
        "MonthYear      7332  non-null values\n",
        "Date           7332  non-null values\n",
        "SiteGrid       7332  non-null values\n",
        "FID            7332  non-null values\n",
        "Species        7332  non-null values\n",
        "Family         7332  non-null values\n",
        "AvgOfCover     7331  non-null values\n",
        "AvgOfFL        7231  non-null values\n",
        "AvgOfSeed      7269  non-null values\n",
        "deadOrAlive    7274  non-null values\n",
        "dtypes: float64(3), int64(2), object(8)"
       ]
      }
     ],
     "prompt_number": 38
    },
    {
     "cell_type": "code",
     "collapsed": false,
     "input": [
      "vegData.AvgOfCover.mean()"
     ],
     "language": "python",
     "metadata": {},
     "outputs": [
      {
       "output_type": "pyout",
       "prompt_number": 39,
       "text": [
        "7.2383902540855241"
       ]
      }
     ],
     "prompt_number": 39
    },
    {
     "cell_type": "code",
     "collapsed": false,
     "input": [
      "vegData.groupby('SiteGrid').AvgOfCover.mean()"
     ],
     "language": "python",
     "metadata": {},
     "outputs": [
      {
       "output_type": "pyout",
       "prompt_number": 61,
       "text": [
        "SiteGrid\n",
        "MC1          7.355772\n",
        "MC10         7.421339\n",
        "MC11         5.712853\n",
        "MC1G         7.288462\n",
        "MC2          5.747144\n",
        "MC2F         4.600000\n",
        "MC2G         3.578947\n",
        "MC3          6.055795\n",
        "MC4          5.639050\n",
        "MC4F         5.818841\n",
        "MC4G         4.861502\n",
        "MC5          6.934133\n",
        "MC6          8.793019\n",
        "MC7          7.180337\n",
        "MC8          7.219926\n",
        "MC9          7.071566\n",
        "MCA          8.899544\n",
        "MCB         10.500228\n",
        "MCC          8.425136\n",
        "MCCF         5.524638\n",
        "MCCG         7.493333\n",
        "MCD         10.471230\n",
        "MCE         17.119658\n",
        "MCF         12.388073\n",
        "MCG         11.665230\n",
        "MCH         12.551622\n",
        "MCK         13.677609\n",
        "MCSK         3.876198\n",
        "Name: AvgOfCover"
       ]
      }
     ],
     "prompt_number": 61
    },
    {
     "cell_type": "code",
     "collapsed": false,
     "input": [
      "vegData.groupby('Year').AvgOfCover.mean().plot()"
     ],
     "language": "python",
     "metadata": {},
     "outputs": [
      {
       "output_type": "pyout",
       "prompt_number": 64,
       "text": [
        "<matplotlib.axes.AxesSubplot at 0x2d71dd0>"
       ]
      },
      {
       "output_type": "display_data",
       "png": "[encoded data removed]"
      }
     ],
     "prompt_number": 64
    },
    {
     "cell_type": "heading",
     "level": 2,
     "metadata": {},
     "source": [
      "Clean Up the Species data"
     ]
    },
    {
     "cell_type": "code",
     "collapsed": false,
     "input": [
      "vegData.groupby('Family').size()"
     ],
     "language": "python",
     "metadata": {},
     "outputs": [
      {
       "output_type": "pyout",
       "prompt_number": 47,
       "text": [
        "Family\n",
        "Abutilon           13\n",
        "Acacia            338\n",
        "Adriana             7\n",
        "Aristida          446\n",
        "Atalaya            35\n",
        "Atriplex           30\n",
        "Bipinnate           1\n",
        "Blennodia          34\n",
        "Boerhavia           4\n",
        "Brunonia            1\n",
        "Bulbostylis         1\n",
        "Calandrinia       289\n",
        "Calocephalus       31\n",
        "Calotis            41\n",
        "Clump               3\n",
        "Convolvulus        14\n",
        "Corchus             1\n",
        "Creeper             2\n",
        "Creeping            1\n",
        "Crotalaria        415\n",
        "Curly               2\n",
        "Dactyloctenium     20\n",
        "Dicrastylis        49\n",
        "Dodonaea           27\n",
        "Dysphania           1\n",
        "Einadia             2\n",
        "Elm-like            1\n",
        "Enchylaena         10\n",
        "Enneapogon         12\n",
        "Eragrostis         71\n",
        "Eremophila        137\n",
        "Eriachne          245\n",
        "Eriucaulon          1\n",
        "Erogrostis          6\n",
        "Eucalyptus          8\n",
        "Euphobia            1\n",
        "Euphorbia         465\n",
        "Evolvulus          28\n",
        "Evovulus            3\n",
        "Fimbristylis       14\n",
        "Frankenia           6\n",
        "Glenda              1\n",
        "Goodenia          245\n",
        "Grass              35\n",
        "Grevillea         578\n",
        "Hakea               4\n",
        "Haloragis          52\n",
        "Halosarcia          1\n",
        "Heart               1\n",
        "Heart-shaped,       1\n",
        "Helipterium        10\n",
        "Helipterum         49\n",
        "Herb                6\n",
        "Hibiscus            1\n",
        "Imbulus             1\n",
        "Indigastrum         1\n",
        "Indigo              1\n",
        "Indigofera          5\n",
        "Johnny              1\n",
        "Lechenaultia       60\n",
        "Lepidium            6\n",
        "Maireana            1\n",
        "Marsilea            3\n",
        "Mukia               8\n",
        "Myriocephalus      19\n",
        "Narrow-leafed       1\n",
        "Newcastelia        74\n",
        "Nicotiana           4\n",
        "Oldenlandia        74\n",
        "Othonna            34\n",
        "Paper               1\n",
        "Paractaenum        99\n",
        "Pea                 5\n",
        "Pimelea             2\n",
        "Pluchea             4\n",
        "Pluchia             1\n",
        "Portulaca          57\n",
        "Portulacca          1\n",
        "Prostrate           1\n",
        "Pterocaulon        10\n",
        "Ptilotus          296\n",
        "Rhagdonia           1\n",
        "Rulinga             4\n",
        "Rutidosis           5\n",
        "Salsola            59\n",
        "Salt                1\n",
        "Sarcostemma         1\n",
        "Scavea              7\n",
        "Scaveola          362\n",
        "Sclerolaena        47\n",
        "Scleroleana         2\n",
        "Seedling            1\n",
        "Senna              40\n",
        "Setaria            13\n",
        "Sida              435\n",
        "Solanum             4\n",
        "Stylobasium         7\n",
        "Swainsona           7\n",
        "Tephrosea         289\n",
        "Trachymene        220\n",
        "Tragus              2\n",
        "Trianthema        159\n",
        "Tribulus           12\n",
        "Trichodesma        85\n",
        "Triodia           727\n",
        "Triraphis          10\n",
        "Triumfetta         68\n",
        "Vine                5\n",
        "Yakirra           131\n",
        "Zygochloa          20\n",
        "Zygophyllum         8\n",
        "billy               1\n",
        "boerhavia           1\n",
        "cats                2\n",
        "grass               3\n",
        "heart               1\n",
        "little              1\n",
        "narrow              1\n",
        "narrow-leaf        12\n",
        "purple              1\n",
        "rat                 2\n",
        "sedum,              1\n",
        "seedling            1\n",
        "sida                2\n",
        "tiny                1\n",
        "Length: 125"
       ]
      }
     ],
     "prompt_number": 47
    },
    {
     "cell_type": "code",
     "collapsed": false,
     "input": [
      "newData = vegData.apply(pandas.value_counts)\n",
      "newData.Family"
     ],
     "language": "python",
     "metadata": {},
     "outputs": [
      {
       "output_type": "pyout",
       "prompt_number": 40,
       "text": [
        "0.000000   NaN\n",
        "0.027778   NaN\n",
        "0.033333   NaN\n",
        "0.052632   NaN\n",
        "0.055556   NaN\n",
        "0.058824   NaN\n",
        "0.062500   NaN\n",
        "0.064516   NaN\n",
        "0.076923   NaN\n",
        "0.083333   NaN\n",
        "0.090909   NaN\n",
        "0.100000   NaN\n",
        "0.111111   NaN\n",
        "0.125000   NaN\n",
        "0.142857   NaN\n",
        "...\n",
        "narrow leaf Sida       NaN\n",
        "narrow-leaf             12\n",
        "narrow-leaf Sida       NaN\n",
        "purple                   1\n",
        "purple flowered sida   NaN\n",
        "rat                      2\n",
        "rat tails              NaN\n",
        "sedum,                   1\n",
        "sedum, Sclerolaena     NaN\n",
        "seedling                 1\n",
        "seedling X             NaN\n",
        "sida                     2\n",
        "sida fibulifera        NaN\n",
        "tiny                     1\n",
        "tiny Tribulus spp      NaN\n",
        "Name: Family, Length: 1135"
       ]
      }
     ],
     "prompt_number": 40
    }
   ],
   "metadata": {}
  }
 ]
}