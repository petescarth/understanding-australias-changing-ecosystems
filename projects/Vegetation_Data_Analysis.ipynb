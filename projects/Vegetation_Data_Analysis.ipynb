{
 "metadata": {
  "name": "Vegetation_Data_Analysis"
 },
 "nbformat": 3,
 "nbformat_minor": 0,
 "worksheets": [
  {
   "cells": [
    {
     "cell_type": "heading",
     "level": 1,
     "metadata": {},
     "source": [
      "Vegetation Data Analysis"
     ]
    },
    {
     "cell_type": "markdown",
     "metadata": {},
     "source": [
      "<style type=\"text/css\">\n",
      "\ttable.tableizer-table {\n",
      "\tborder: 1px solid #CCC; font-family: Arial, Helvetica, sans-serif\n",
      "\tfont-size: 12px;\n",
      "} \n",
      ".tableizer-table td {\n",
      "\tpadding: 4px;\n",
      "\tmargin: 3px;\n",
      "\tborder: 1px solid #ccc;\n",
      "}\n",
      ".tableizer-table th {\n",
      "\tbackground-color: #104E8B; \n",
      "\tcolor: #FFF;\n",
      "\tfont-weight: bold;\n",
      "}\n",
      "</style><table class=\"tableizer-table\">\n",
      "<tr class=\"tableizer-firstrow\"><th>Year</th><th>year of survey</th></tr>\n",
      " <tr><td>MonthYear</td><td>month and year of survey identifier</td></tr>\n",
      " <tr><td>TripNo</td><td>arbitrary trip identifier</td></tr>\n",
      " <tr><td>SiteName</td><td>name of site</td></tr>\n",
      " <tr><td>SiteGrid</td><td>site and trapping grid code</td></tr>\n",
      " <tr><td>Species</td><td>species present</td></tr>\n",
      " <tr><td>AvgOf%cover</td><td>Mean %cover across grid, calc from 6 surveys around traps</td></tr>\n",
      " <tr><td>AvgOfFL</td><td>Mean flowering across grid, calc from 6 surveys around traps</td></tr>\n",
      " <tr><td>AvgOfSeed</td><td>Mean seeding across grid, calc from 6 surveys around traps</td></tr>\n",
      " <tr><td>dead/alive</td><td>Plant dead or alive</td></tr>\n",
      "</table>\n"
     ]
    },
    {
     "cell_type": "code",
     "collapsed": false,
     "input": [
      "import pandas\n",
      "\n",
      "!ls"
     ],
     "language": "python",
     "metadata": {},
     "outputs": [
      {
       "output_type": "stream",
       "stream": "stdout",
       "text": [
        "EarthEngine_Timeseries.ipynb  qryMeanVeg93-14_20140624.cvs\r\n",
        "eeHelper.py\t\t      README.txt\r\n",
        "eeHelper.pyc\t\t      Vegetation_Data_Analysis.ipynb\r\n",
        "ExampleCollection.ipynb\r\n"
       ]
      }
     ],
     "prompt_number": 1
    },
    {
     "cell_type": "heading",
     "level": 2,
     "metadata": {},
     "source": [
      "Read in the vegetation data into a Pandas data frame"
     ]
    },
    {
     "cell_type": "code",
     "collapsed": false,
     "input": [
      "vegData = pandas.read_csv('qryMeanVeg93-14_20140624.cvs')\n",
      "vegData"
     ],
     "language": "python",
     "metadata": {},
     "outputs": [
      {
       "output_type": "pyout",
       "prompt_number": 2,
       "text": [
        "<class 'pandas.core.frame.DataFrame'>\n",
        "Int64Index: 8307 entries, 0 to 8306\n",
        "Data columns:\n",
        "Year          8307  non-null values\n",
        "SiteName      8307  non-null values\n",
        "TripNo        8307  non-null values\n",
        "MonthYear     8307  non-null values\n",
        "SiteGrid      8306  non-null values\n",
        "Species       8305  non-null values\n",
        "AvgOfCover    8295  non-null values\n",
        "AvgOfFL       8179  non-null values\n",
        "AvgOfSeed     8218  non-null values\n",
        "dead/alive    8238  non-null values\n",
        "dtypes: float64(3), int64(2), object(5)"
       ]
      }
     ],
     "prompt_number": 2
    },
    {
     "cell_type": "code",
     "collapsed": false,
     "input": [
      "vegData.AvgOfCover.mean()"
     ],
     "language": "python",
     "metadata": {},
     "outputs": [
      {
       "output_type": "pyout",
       "prompt_number": 37,
       "text": [
        "6.9367807268356927"
       ]
      }
     ],
     "prompt_number": 37
    },
    {
     "cell_type": "heading",
     "level": 2,
     "metadata": {},
     "source": [
      "Clean Up the Species data"
     ]
    },
    {
     "cell_type": "code",
     "collapsed": false,
     "input": [
      "# Only retain the first word\n",
      "vegData['Species'] = vegData['Species'].map(lambda x: str(x).lower().split(' ',1)[0])"
     ],
     "language": "python",
     "metadata": {},
     "outputs": [],
     "prompt_number": 14
    },
    {
     "cell_type": "code",
     "collapsed": false,
     "input": [
      "id = vegData.groupby('Species').size()"
     ],
     "language": "python",
     "metadata": {},
     "outputs": [],
     "prompt_number": 18
    },
    {
     "cell_type": "code",
     "collapsed": false,
     "input": [
      "newData = vegData.apply(pandas.value_counts)\n",
      "newData.Species"
     ],
     "language": "python",
     "metadata": {},
     "outputs": [
      {
       "output_type": "pyout",
       "prompt_number": 27,
       "text": [
        "0.000000   NaN\n",
        "0.027778   NaN\n",
        "0.028571   NaN\n",
        "0.033333   NaN\n",
        "0.052632   NaN\n",
        "0.055556   NaN\n",
        "0.058824   NaN\n",
        "0.062500   NaN\n",
        "0.064516   NaN\n",
        "0.076923   NaN\n",
        "0.083333   NaN\n",
        "0.090909   NaN\n",
        "0.100000   NaN\n",
        "0.111111   NaN\n",
        "0.125000   NaN\n",
        "...\n",
        "unk.7,                      1\n",
        "unk.8,                      1\n",
        "unknown                   182\n",
        "unknown(caloceptalus?)      1\n",
        "upright                     1\n",
        "vegetation                  2\n",
        "vine                        5\n",
        "white                       1\n",
        "woolly                      1\n",
        "x                           2\n",
        "y                           4\n",
        "yakirra                   136\n",
        "yellow                     10\n",
        "zygochloa                  21\n",
        "zygophyllum                 8\n",
        "Name: Species, Length: 891"
       ]
      }
     ],
     "prompt_number": 27
    },
    {
     "cell_type": "code",
     "collapsed": false,
     "input": [],
     "language": "python",
     "metadata": {},
     "outputs": []
    }
   ],
   "metadata": {}
  }
 ]
}