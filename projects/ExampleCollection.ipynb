{
 "metadata": {
  "name": "ExampleCollection"
 },
 "nbformat": 3,
 "nbformat_minor": 0,
 "worksheets": [
  {
   "cells": [
    {
     "cell_type": "code",
     "collapsed": false,
     "input": [
      "from IPython.core.display import Image\n",
      "import ee, datetime\n",
      "from eeHelper import startEE\n",
      "\n",
      "\n",
      "# Initialise the EE interface\n",
      "startEE()\n"
     ],
     "language": "python",
     "metadata": {},
     "outputs": [
      {
       "output_type": "stream",
       "stream": "stdout",
       "text": [
        "Initialized EE\n"
       ]
      }
     ],
     "prompt_number": 3
    },
    {
     "cell_type": "heading",
     "level": 2,
     "metadata": {},
     "source": [
      "A simple Image Example"
     ]
    },
    {
     "cell_type": "code",
     "collapsed": false,
     "input": [
      "\"\"\"\n",
      "Filter an image collection by date and make a median composite.\n",
      "Display the 543 image from within a bounding box.\n",
      "Note that we can't use the cool zooming interface in iPython\n",
      "\"\"\"\n",
      "\n",
      "north = -20\n",
      "south = -30\n",
      "east = 145\n",
      "west = 155\n",
      "\n",
      "coords = [[west, north],  # NW\n",
      "          [west, south],  # SW \n",
      "          [east, south],  # SE\n",
      "          [east, north],  # NE\n",
      "          [west, north]]  # NW\n",
      "\n",
      "# Create a Landsat 7 collection over a period of time\n",
      "collection = (ee.ImageCollection('L7_L1T')\n",
      "              .filterDate(datetime.datetime(2014, 1, 1),\n",
      "                          datetime.datetime(2014, 7, 1)))\n",
      "\n",
      "# Select the median pixel.\n",
      "image = collection.median()\n",
      "\n",
      "# Select the bands for display.\n",
      "image = image.select('50', '40', '30')\n",
      "\n",
      "# Use the Thumbnail URL builder to display the image\n",
      "thumbnailURL = image.getThumbUrl({\n",
      "    'region': coords,\n",
      "    'format': 'png',\n",
      "    'min': 10,\n",
      "    'max': 200,\n",
      "    'size': '400'})\n",
      "print thumbnailURL\n",
      "\n",
      "# Use the Image function to display the image\n",
      "Image(url=thumbnailURL)\n"
     ],
     "language": "python",
     "metadata": {},
     "outputs": [
      {
       "output_type": "stream",
       "stream": "stdout",
       "text": [
        "https://earthengine.googleapis.com//api/thumb?thumbid=9c3ac94d1bf5bd7c7a3c62552169b976&token=8609b4048ce49b98a6574b6f20f322b3\n"
       ]
      },
      {
       "html": [
        "<img src=\"https://earthengine.googleapis.com//api/thumb?thumbid=9c3ac94d1bf5bd7c7a3c62552169b976&token=8609b4048ce49b98a6574b6f20f322b3\" />"
       ],
       "output_type": "pyout",
       "prompt_number": 5,
       "text": [
        "<IPython.core.display.Image at 0x34e4d10>"
       ]
      }
     ],
     "prompt_number": 5
    },
    {
     "cell_type": "code",
     "collapsed": false,
     "input": [],
     "language": "python",
     "metadata": {},
     "outputs": []
    }
   ],
   "metadata": {}
  }
 ]
}