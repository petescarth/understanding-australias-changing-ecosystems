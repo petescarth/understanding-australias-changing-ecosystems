{
 "metadata": {
  "name": "EarthEngine_Timeseries"
 },
 "nbformat": 3,
 "nbformat_minor": 0,
 "worksheets": [
  {
   "cells": [
    {
     "cell_type": "code",
     "collapsed": false,
     "input": [
      "from IPython.core.display import Image\n",
      "import numpy, matplotlib, datetime\n",
      "from dateutil.relativedelta import relativedelta\n",
      "#import matplotlib.pyplot\n",
      "import ee\n",
      "from eeHelper import startEE, progressBar,sideBySide,applyRSCtransforms,seasonalMedian,nominalMedian\n",
      "\n",
      "\n",
      "# Initialise the EE interface\n",
      "startEE()\n",
      "\n",
      "\n",
      "# Endmembers derived from the Auscover Field Sites Database using a 60 day time based weighting and the following Python code:\n",
      "# endmembersWeighted=pinv2(dot(timeWeight*array([totalPVCoverEstimate,totalNPVCoverEstimate,totalBareCover]),pinv2(timeWeight*satelliteReflectanceTransformed.transpose(),rcond=rcond)))\n",
      "# Cross-validation performed to select the most robust rcond for the pseudoinverse\n",
      "# Optimization performed to select the optimal sum-to-one constraint\n",
      "# Recalibrated to take into account unconstrained unmixing in the EE\n",
      "# Overall global RMSE unmixing error is 13.1%\n",
      "# RMSE of the derived fractions against 675 field sites is:\n",
      "# Bare:  0.11959856\n",
      "# Dead:  0.14945009\n",
      "# Green: 0.12286588\n",
      "\n",
      "end_gren = [0.253579,0.327519,0.314920,0.189665,-0.402369,-0.385083,-0.170990,-0.198985,-0.439129,0.347166,0.212352,\\\n",
      "            0.129110,-0.276156,-0.392998,-0.044023,-0.281611,-0.502729,0.359120,0.247346,-0.122324,-0.026948,-0.381508,\\\n",
      "            -0.141129,-0.149403,-0.043387,-0.036671,-0.384573,-0.022314,-0.653884,-0.735389,-0.142463,-0.369733,0.013781,\\\n",
      "            -0.434880,-0.605286,-0.148295,-0.050705,0.212810,0.006745,0.256352,0.032301,-0.169641,-0.442308,0.211869,\\\n",
      "            0.053557,0.542271,0.500308,0.605675,0.480604,0.332799,-0.414304,-0.436737,-0.065788,-0.271601,-0.509302,1.300000];\n",
      "end_dead = [0.252504,0.283792,0.316628,0.173395,-0.411940,-0.351980,-0.278245,-0.184954,-0.450937,0.311198,0.260045,\\\n",
      "            0.131228,-0.378997,-0.408858,-0.259541,-0.284724,-0.587906,0.303342,0.189293,-0.071804,-0.004752,-0.377986,\\\n",
      "            -0.124072,-0.160303,-0.038490,-0.079463,-0.279100,-0.259915,-0.588145,-0.798962,-0.105199,-0.270696,-0.090768,\\\n",
      "            -0.399483,-0.607516,-0.170258,0.051373,0.266878,-0.043404,0.091837,0.250722,-0.115225,-0.391340,0.132854,\\\n",
      "            -0.108749,0.533653,0.555142,0.505719,0.527999,0.303566,-0.379143,-0.319080,-0.342777,-0.241111,-0.499001,1.300000];\n",
      "end_bare = [0.258812,0.278118,0.316989,0.193853,-0.405281,-0.338148,-0.313860,-0.188326,-0.401638,0.303030,0.265953,\\\n",
      "            0.163120,-0.396116,-0.407738,-0.332991,-0.301993,-0.528293,0.291952,0.206056,-0.091901,-0.058606,-0.354632,\\\n",
      "            -0.119910,-0.130250,-0.001546,-0.018040,-0.205956,-0.243867,-0.600472,-0.668552,-0.171761,-0.290584,-0.181847,\\\n",
      "            -0.436098,-0.593558,-0.157605,0.101264,0.261008,-0.059952,-0.052026,0.203171,-0.003674,-0.242370,0.111792,\\\n",
      "            -0.178733,0.536188,0.570203,0.492609,0.497207,0.365561,-0.366652,-0.274201,-0.434495,-0.244632,-0.371315,1.300000];\n",
      "\n",
      "\n",
      "\n"
     ],
     "language": "python",
     "metadata": {},
     "outputs": [
      {
       "output_type": "stream",
       "stream": "stdout",
       "text": [
        "Initialized EE\n"
       ]
      },
      {
       "output_type": "stream",
       "stream": "stderr",
       "text": [
        "No handlers could be found for logger \"oauth2client.util\"\n"
       ]
      }
     ],
     "prompt_number": 1
    },
    {
     "cell_type": "code",
     "collapsed": false,
     "input": [
      "# Display the images for a given season\n",
      "\n",
      "# Which image collection to Use\n",
      "collection = 'LANDSAT/LT5_L1T_TOA'\n",
      "\n",
      "\n",
      "# Connect to the Study Extent fusion table: http://goo.gl/upA1Bm\n",
      "studyExtent = ee.FeatureCollection(\"ft:14aDL4lvjRpWF9Ei6hi-paXq8ezC7rit_022ZUp7I\")\n",
      "\n",
      "# Seasonal Specification\n",
      "# The seasons are 3 month periods starting from January 1988\n",
      "# so 4 would be January 1989 etc\n",
      "season = 11\n",
      "\n",
      "# Get the bounding region for the thumbnail extract\n",
      "coords = studyExtent.geometry().getInfo()['coordinates']\n",
      "\n",
      "# Use the Thumbnail URL builder to display the Landsat Image for the last season\n",
      "allBandMosaic = seasonalMedian(collection,season);\n",
      "imageURL = allBandMosaic.select('B5', 'B4', 'B3').getThumbUrl({'region': coords,'format': 'png','min': 0.01,'max': 0.5,'size': '500'})\n",
      "print imageURL\n",
      "\n",
      "# Use the Thumbnail URL builder to display the fraction image for the last season\n",
      "coverFractions = applyRSCtransforms(allBandMosaic).unmix([end_bare,end_gren,end_dead]).select([\"band_0\",\"band_1\",\"band_2\"],\\\n",
      "                                                                                              [\"Bare_Season\"+str(season),\\\n",
      "                                                                                              \"Green_Season\"+str(season),\\\n",
      "                                                                                               \"Dead_Season\"+str(season)]);\n",
      "fractionURL = coverFractions.getThumbUrl({'region': coords,'format': 'png','min': 0.01,'max': 0.99,'size': '500'})\n",
      "print fractionURL\n",
      "\n",
      "# Display the Images\n",
      "sideBySide(Image(url=imageURL),Image(url=fractionURL))\n"
     ],
     "language": "python",
     "metadata": {},
     "outputs": [
      {
       "output_type": "stream",
       "stream": "stdout",
       "text": [
        "https://earthengine.googleapis.com//api/thumb?thumbid=1d240911109d4244331948dc5592ffeb&token=1c080d9a532d9f3f8fb4c101f299f290\n",
        "https://earthengine.googleapis.com//api/thumb?thumbid=0348474c2bafbae1e887e2bd636a9722&token=2584d62034c27ddd526a92af0b9cd571"
       ]
      },
      {
       "output_type": "stream",
       "stream": "stdout",
       "text": [
        "\n"
       ]
      },
      {
       "html": [
        "<div style='float: left;'><img src=\"https://earthengine.googleapis.com//api/thumb?thumbid=1d240911109d4244331948dc5592ffeb&token=1c080d9a532d9f3f8fb4c101f299f290\" /></div><div style='float: left;'><img src=\"https://earthengine.googleapis.com//api/thumb?thumbid=0348474c2bafbae1e887e2bd636a9722&token=2584d62034c27ddd526a92af0b9cd571\" /></div>"
       ],
       "output_type": "pyout",
       "prompt_number": 2,
       "text": [
        "<eeHelper.sideBySide instance at 0x1cf2638>"
       ]
      }
     ],
     "prompt_number": 2
    },
    {
     "cell_type": "heading",
     "level": 2,
     "metadata": {},
     "source": [
      "Extract the fractional Cover data from the timeseries for each site"
     ]
    },
    {
     "cell_type": "code",
     "collapsed": false,
     "input": [
      "# Seasonal Specification\n",
      "numSeasons = 24\n",
      "\n",
      "dateList = [datetime.datetime(1988,2,1) + relativedelta(months = 3 * x) for x in range(0, numSeasons)]\n",
      "print \"From \" + dateList[0].strftime('%Y-%B') + \" to \" + dateList[-1].strftime('%Y-%B')\n",
      "\n",
      "# Connect to the field site fusion table: http://goo.gl/ui08FG\n",
      "fieldSites = ee.FeatureCollection('ft:1SBHVmJQkj-Y1Ye9Kyd5omXWm9D3BiTkk2om-8QaF')\n",
      "\n",
      "# Initialise the output array\n",
      "fieldArray = []\n",
      "\n",
      "# Build the combined reducer\n",
      "reducerMean = ee.Reducer.mean().forEach(['Bare_Mean','Green_Mean','Dead_Mean'])\n",
      "reducerSdev = ee.Reducer.stdDev().forEach(['Bare_StDev','Green_StDev','Dead_StDev'])\n",
      "reducerCombined = reducerMean.combine(reducerSdev, None, True)\n",
      "\n",
      "# Progress Bar\n",
      "pBar = progressBar(numSeasons)\n",
      "counter=0\n",
      "pBar.animate(counter)\n",
      "\n",
      "\n",
      "\n",
      "\n",
      "\n",
      "for midDate in dateList:\n",
      "    # Unmix the image for the selected season\n",
      "    collection = 'LANDSAT/LT5_L1T_TOA' if midDate < datetime.datetime(2000,1,1)  else 'LANDSAT/LE7_L1T_TOA'\n",
      "    coverFractions = applyRSCtransforms(nominalMedian(collection,midDate)) \\\n",
      "    .unmix([end_bare,end_gren,end_dead]).select([\"band_0\",\"band_1\",\"band_2\"])\n",
      "    # Update the progress bar\n",
      "    counter+=1\n",
      "    pBar.animate(counter)\n",
      "    # Find the mean and standard deviation for all the sites\n",
      "    summarySites = coverFractions.reduceRegions(fieldSites, reducerCombined, 30).getInfo()['features']\n",
      "    # Extract the relevant data from the summary sites into an array\n",
      "    for site in summarySites:\n",
      "        siteData =  site['properties'] # The feature properties\n",
      "        excelDate = (midDate - datetime.datetime(1899, 12, 31)).days\n",
      "        fieldArray.append([excelDate,siteData['TARGET_FID'],siteData['Bare_Mean'],\\\n",
      "                           siteData['Green_Mean'],siteData['Dead_Mean'],\\\n",
      "                           siteData['Bare_StDev'],siteData['Green_StDev'],siteData['Dead_StDev']])\n"
     ],
     "language": "python",
     "metadata": {},
     "outputs": [
      {
       "output_type": "stream",
       "stream": "stdout",
       "text": [
        "From 1988-February to 1993-November\n",
        "\r",
        "[                  0%                  ] \r",
        "[**                4%                  ]  1 of 24 complete "
       ]
      },
      {
       "output_type": "stream",
       "stream": "stdout",
       "text": [
        "\r",
        "[***               8%                  ]  2 of 24 complete "
       ]
      },
      {
       "output_type": "stream",
       "stream": "stdout",
       "text": [
        "\r",
        "[*****            13%                  ]  3 of 24 complete "
       ]
      },
      {
       "output_type": "stream",
       "stream": "stdout",
       "text": [
        "\r",
        "[******           17%                  ]  4 of 24 complete "
       ]
      },
      {
       "output_type": "stream",
       "stream": "stdout",
       "text": [
        "\r",
        "[********         21%                  ]  5 of 24 complete "
       ]
      },
      {
       "output_type": "stream",
       "stream": "stdout",
       "text": [
        "\r",
        "[**********       25%                  ]  6 of 24 complete "
       ]
      },
      {
       "output_type": "stream",
       "stream": "stdout",
       "text": [
        "\r",
        "[***********      29%                  ]  7 of 24 complete "
       ]
      },
      {
       "output_type": "stream",
       "stream": "stdout",
       "text": [
        "\r",
        "[*************    33%                  ]  8 of 24 complete "
       ]
      },
      {
       "output_type": "stream",
       "stream": "stdout",
       "text": [
        "\r",
        "[**************   38%                  ]  9 of 24 complete "
       ]
      },
      {
       "output_type": "stream",
       "stream": "stdout",
       "text": [
        "\r",
        "[**************** 42%                  ]  10 of 24 complete "
       ]
      },
      {
       "output_type": "stream",
       "stream": "stdout",
       "text": [
        "\r",
        "[*****************46%                  ]  11 of 24 complete "
       ]
      },
      {
       "output_type": "stream",
       "stream": "stdout",
       "text": [
        "\r",
        "[*****************50%                  ]  12 of 24 complete "
       ]
      },
      {
       "output_type": "stream",
       "stream": "stdout",
       "text": [
        "\r",
        "[*****************54%*                 ]  13 of 24 complete "
       ]
      },
      {
       "output_type": "stream",
       "stream": "stdout",
       "text": [
        "\r",
        "[*****************58%**                ]  14 of 24 complete "
       ]
      },
      {
       "output_type": "stream",
       "stream": "stdout",
       "text": [
        "\r",
        "[*****************63%****              ]  15 of 24 complete "
       ]
      },
      {
       "output_type": "stream",
       "stream": "stdout",
       "text": [
        "\r",
        "[*****************67%*****             ]  16 of 24 complete "
       ]
      },
      {
       "output_type": "stream",
       "stream": "stdout",
       "text": [
        "\r",
        "[*****************71%*******           ]  17 of 24 complete "
       ]
      },
      {
       "output_type": "stream",
       "stream": "stdout",
       "text": [
        "\r",
        "[*****************75%*********         ]  18 of 24 complete "
       ]
      },
      {
       "output_type": "stream",
       "stream": "stdout",
       "text": [
        "\r",
        "[*****************79%**********        ]  19 of 24 complete "
       ]
      },
      {
       "output_type": "stream",
       "stream": "stdout",
       "text": [
        "\r",
        "[*****************83%************      ]  20 of 24 complete "
       ]
      },
      {
       "output_type": "stream",
       "stream": "stdout",
       "text": [
        "\r",
        "[*****************88%*************     ]  21 of 24 complete "
       ]
      },
      {
       "output_type": "stream",
       "stream": "stdout",
       "text": [
        "\r",
        "[*****************92%***************   ]  22 of 24 complete "
       ]
      },
      {
       "output_type": "stream",
       "stream": "stdout",
       "text": [
        "\r",
        "[*****************96%****************  ]  23 of 24 complete "
       ]
      },
      {
       "output_type": "stream",
       "stream": "stdout",
       "text": [
        "\r",
        "[****************100%******************]  24 of 24 complete\n"
       ]
      }
     ],
     "prompt_number": 22
    },
    {
     "cell_type": "heading",
     "level": 2,
     "metadata": {},
     "source": [
      "Export the data"
     ]
    },
    {
     "cell_type": "markdown",
     "metadata": {},
     "source": [
      "\n",
      "<style type=\"text/css\">\n",
      "\ttable.tableizer-table {\n",
      "\tborder: 1px solid #CCC; font-family: Arial, Helvetica, sans-serif\n",
      "\tfont-size: 12px;\n",
      "} \n",
      ".tableizer-table td {\n",
      "\tpadding: 4px;\n",
      "\tmargin: 3px;\n",
      "\tborder: 1px solid #ccc;\n",
      "}\n",
      ".tableizer-table th {\n",
      "\tbackground-color: #104E8B; \n",
      "\tcolor: #FFF;\n",
      "\tfont-weight: bold;\n",
      "}\n",
      "</style><table class=\"tableizer-table\">\n",
      "<tr class=\"tableizer-firstrow\"><th></th><th>Date</th><th>FID</th><th>Bare_Mean</th><th>Green_Mean</th><th>nonGreen_Mean</th><th>Bare_Stdev</th><th>Green_Stdev</th><th>nonGreen_Stdev</th><th>&nbsp;</th></tr>\n",
      " <tr><td>Array IDX</td><td>0</td><td>1</td><td>2</td><td>3</td><td>4</td><td>5</td><td>6</td><td>7</td><td>8</td></tr>\n",
      " <tr><td>Metadata</td><td>Datw since 1900</td><td>FID From http://goo.gl/ui08FG</td><td>In Percent</td><td>In Percent</td><td>In Percent</td><td>In Percent</td><td>In Percent</td><td>In Percent</td><td>In Percent</td></tr>\n",
      "</table>\n"
     ]
    },
    {
     "cell_type": "code",
     "collapsed": false,
     "input": [
      "numpy.savetxt('siteFCData.csv',numpy.asarray(fieldArray),fmt='%.8f',delimiter=',')"
     ],
     "language": "python",
     "metadata": {},
     "outputs": [],
     "prompt_number": 4
    },
    {
     "cell_type": "heading",
     "level": 2,
     "metadata": {},
     "source": [
      "Make some plots"
     ]
    },
    {
     "cell_type": "heading",
     "level": 3,
     "metadata": {},
     "source": [
      "Individual"
     ]
    },
    {
     "cell_type": "code",
     "collapsed": false,
     "input": [
      "# Convert the data to a numarray\n",
      "fieldArray = numpy.asarray(fieldArray)\n",
      "\n",
      "\n",
      "# Basic Timeseries Plot\n",
      "def fcTimePlot(siteFID,tsDataArray):\n",
      "    # Select the site of interest\n",
      "    siteData = tsDataArray[tsDataArray[:,1]==siteFID]\n",
      "    # Recreate the list of dates\n",
      "    dateList = [datetime.datetime(1899, 12, 31) + relativedelta(days = x) for x in siteData[:,0]]\n",
      "    # Build the plot\n",
      "    fig, ax = matplotlib.pyplot.subplots()\n",
      "    fig.set_size_inches(10,5)\n",
      "    title(\"Site %d\" % siteFID) \n",
      "    ylabel('Cover amount')\n",
      "    xlabel('Year')\n",
      "    # Add the cover plots\n",
      "    ax.plot(dateList, siteData[:,2],'red', label=\"Bare\")\n",
      "    ax.plot(dateList, siteData[:,3],'green', label=\"Green\")\n",
      "    ax.plot(dateList, siteData[:,4],'blue',label=\"non-Green\")\n",
      "    # Make it look nice\n",
      "    ax.grid(b=True, which='major', color='yellow', linestyle='--')\n",
      "    ax.legend(loc='upper right', shadow=True)\n",
      "    ax.set_ylim([0.0,1.0])\n",
      "  \n",
      "    return ax\n",
      "\n",
      "\n",
      "for x in numpy.unique(fieldArray[:,1]):\n",
      "    fcTimePlot(x,fieldArray)\n",
      "    matplotlib.pyplot.savefig(\"/home/ipython/understanding-australias-changing-ecosystems/assets/%d.png\" % x)\n",
      "    \n",
      "\n",
      "\n",
      "#plotList = [fcTimePlot(x,fieldArray) for x in numpy.unique(fieldArray[:,1])]\n",
      "\n",
      "\n",
      "\n",
      "\n"
     ],
     "language": "python",
     "metadata": {},
     "outputs": [
      {
       "output_type": "pyout",
       "prompt_number": 45,
       "text": [
        "<matplotlib.axes.AxesSubplot at 0x37c8f50>"
       ]
      },
      {
       "output_type": "display_data",
       "png": "[encoded data removed]"
      }
     ],
     "prompt_number": 45
    },
    {
     "cell_type": "heading",
     "level": 3,
     "metadata": {},
     "source": [
      "All at once"
     ]
    },
    {
     "cell_type": "code",
     "collapsed": false,
     "input": [
      "# Convert the data to a numarray\n",
      "fieldArray = numpy.asarray(fieldArray)\n",
      "\n",
      "\n",
      "# Basic Timeseries Plot\n",
      "def fcTimePlots(tsDataArray):\n",
      "    # Unique Sites\n",
      "    siteIDs = numpy.unique(tsDataArray[:,1])\n",
      "    numSites = len(siteIDs)\n",
      "    fig, ax = matplotlib.pyplot.subplots(numSites,sharex=True,sharey=True)\n",
      "    fig.set_size_inches(10,5 * numSites) \n",
      "    ylabel('Cover amount')\n",
      "    xlabel('Year')\n",
      "    \n",
      "    for i in range(numSites):\n",
      "        siteFID = siteIDs[i]                       \n",
      "        # Select the site of interest\n",
      "        siteData = tsDataArray[tsDataArray[:,1]==siteFID]\n",
      "        # Recreate the list of dates\n",
      "        dateList = [datetime.datetime(1899, 12, 31) + relativedelta(days = x) for x in siteData[:,0]]\n",
      "        # Add the cover plots\n",
      "        ax[i].plot(dateList, siteData[:,2],'red', label=\"Bare\")\n",
      "        ax[i].plot(dateList, siteData[:,3],'green', label=\"Green\")\n",
      "        ax[i].plot(dateList, siteData[:,4],'blue',label=\"non-Green\")\n",
      "        # Make it look nice\n",
      "        ax[i].grid(b=True, which='major', color='yellow', linestyle='--')\n",
      "        ax[i].legend(loc='upper right', shadow=True)\n",
      "        ax[i].set_ylim([0.0,1.0])\n",
      "        ax[i].set_title(\"Site %d\" % siteFID)\n",
      "\n",
      "    fig.subplots_adjust(hspace=0.1)\n",
      "\n",
      "  \n",
      "    return ax\n",
      "\n",
      "\n",
      "fcTimePlots(fieldArray)\n",
      "#plotList = [fcTimePlot(x,fieldArray) for x in numpy.unique(fieldArray[:,1])]\n",
      "\n",
      "\n",
      "\n",
      "\n",
      "            "
     ],
     "language": "python",
     "metadata": {},
     "outputs": []
    }
   ],
   "metadata": {}
  }
 ]
}