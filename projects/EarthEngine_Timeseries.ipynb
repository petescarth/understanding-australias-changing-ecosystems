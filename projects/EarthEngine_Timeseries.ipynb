{
 "metadata": {
  "name": "EarthEngine_Timeseries"
 },
 "nbformat": 3,
 "nbformat_minor": 0,
 "worksheets": [
  {
   "cells": [
    {
     "cell_type": "code",
     "collapsed": false,
     "input": [
      "from IPython.core.display import Image\n",
      "import numpy, matplotlib, datetime\n",
      "from dateutil.relativedelta import relativedelta\n",
      "import matplotlib.pyplot\n",
      "import ee\n",
      "from eeHelper import startEE, progressBar,sideBySide,applyRSCtransforms,seasonalMedian\n",
      "\n",
      "\n",
      "# Initialise the EE interface\n",
      "startEE()\n",
      "\n",
      "\n",
      "# Endmembers derived from the Auscover Field Sites Database using a 60 day time based weighting and the following Python code:\n",
      "# endmembersWeighted=pinv2(dot(timeWeight*array([totalPVCoverEstimate,totalNPVCoverEstimate,totalBareCover]),pinv2(timeWeight*satelliteReflectanceTransformed.transpose(),rcond=rcond)))\n",
      "# Cross-validation performed to select the most robust rcond for the pseudoinverse\n",
      "# Optimization performed to select the optimal sum-to-one constraint\n",
      "# Recalibrated to take into account unconstrained unmixing in the EE\n",
      "# Overall global RMSE unmixing error is 13.1%\n",
      "# RMSE of the derived fractions against 675 field sites is:\n",
      "# Bare:  0.11959856\n",
      "# Dead:  0.14945009\n",
      "# Green: 0.12286588\n",
      "\n",
      "end_gren = [0.253579,0.327519,0.314920,0.189665,-0.402369,-0.385083,-0.170990,-0.198985,-0.439129,0.347166,0.212352,\\\n",
      "            0.129110,-0.276156,-0.392998,-0.044023,-0.281611,-0.502729,0.359120,0.247346,-0.122324,-0.026948,-0.381508,\\\n",
      "            -0.141129,-0.149403,-0.043387,-0.036671,-0.384573,-0.022314,-0.653884,-0.735389,-0.142463,-0.369733,0.013781,\\\n",
      "            -0.434880,-0.605286,-0.148295,-0.050705,0.212810,0.006745,0.256352,0.032301,-0.169641,-0.442308,0.211869,\\\n",
      "            0.053557,0.542271,0.500308,0.605675,0.480604,0.332799,-0.414304,-0.436737,-0.065788,-0.271601,-0.509302,1.300000];\n",
      "end_dead = [0.252504,0.283792,0.316628,0.173395,-0.411940,-0.351980,-0.278245,-0.184954,-0.450937,0.311198,0.260045,\\\n",
      "            0.131228,-0.378997,-0.408858,-0.259541,-0.284724,-0.587906,0.303342,0.189293,-0.071804,-0.004752,-0.377986,\\\n",
      "            -0.124072,-0.160303,-0.038490,-0.079463,-0.279100,-0.259915,-0.588145,-0.798962,-0.105199,-0.270696,-0.090768,\\\n",
      "            -0.399483,-0.607516,-0.170258,0.051373,0.266878,-0.043404,0.091837,0.250722,-0.115225,-0.391340,0.132854,\\\n",
      "            -0.108749,0.533653,0.555142,0.505719,0.527999,0.303566,-0.379143,-0.319080,-0.342777,-0.241111,-0.499001,1.300000];\n",
      "end_bare = [0.258812,0.278118,0.316989,0.193853,-0.405281,-0.338148,-0.313860,-0.188326,-0.401638,0.303030,0.265953,\\\n",
      "            0.163120,-0.396116,-0.407738,-0.332991,-0.301993,-0.528293,0.291952,0.206056,-0.091901,-0.058606,-0.354632,\\\n",
      "            -0.119910,-0.130250,-0.001546,-0.018040,-0.205956,-0.243867,-0.600472,-0.668552,-0.171761,-0.290584,-0.181847,\\\n",
      "            -0.436098,-0.593558,-0.157605,0.101264,0.261008,-0.059952,-0.052026,0.203171,-0.003674,-0.242370,0.111792,\\\n",
      "            -0.178733,0.536188,0.570203,0.492609,0.497207,0.365561,-0.366652,-0.274201,-0.434495,-0.244632,-0.371315,1.300000];\n",
      "\n",
      "\n",
      "# Which image collection to Use\n",
      "collection = 'LANDSAT/L5_L1T_TOA'\n"
     ],
     "language": "python",
     "metadata": {},
     "outputs": [
      {
       "output_type": "stream",
       "stream": "stdout",
       "text": [
        "Initialized EE\n"
       ]
      },
      {
       "output_type": "stream",
       "stream": "stderr",
       "text": [
        "No handlers could be found for logger \"oauth2client.util\"\n"
       ]
      }
     ],
     "prompt_number": 1
    },
    {
     "cell_type": "code",
     "collapsed": false,
     "input": [
      "# Display the images for a given season\n",
      "\n",
      "# Connect to the Study Extent fusion table: http://goo.gl/upA1Bm\n",
      "studyExtent = ee.FeatureCollection(\"ft:14aDL4lvjRpWF9Ei6hi-paXq8ezC7rit_022ZUp7I\")\n",
      "\n",
      "# Seasonal Specification\n",
      "# The seasons are 3 month periods starting from January 1988\n",
      "# so 4 would be January 1989 etc\n",
      "season = 11\n",
      "\n",
      "# Get the bounding region for the thumbnail extract\n",
      "coords = studyExtent.geometry().getInfo()['coordinates']\n",
      "\n",
      "# Use the Thumbnail URL builder to display the Landsat Image for the last season\n",
      "allBandMosaic = seasonalMedian(collection,season);\n",
      "imageURL = allBandMosaic.select('50', '40', '30').getThumbUrl({'region': coords,'format': 'png','min': 0.01,'max': 0.5,'size': '500'})\n",
      "print imageURL\n",
      "\n",
      "# Use the Thumbnail URL builder to display the fraction image for the last season\n",
      "coverFractions = applyRSCtransforms(allBandMosaic).unmix([end_bare,end_gren,end_dead]).select([\"band_0\",\"band_1\",\"band_2\"],\\\n",
      "                                                                                              [\"Bare_Season\"+str(season),\\\n",
      "                                                                                              \"Green_Season\"+str(season),\\\n",
      "                                                                                               \"Dead_Season\"+str(season)]);\n",
      "fractionURL = coverFractions.getThumbUrl({'region': coords,'format': 'png','min': 0.01,'max': 0.99,'size': '500'})\n",
      "print fractionURL\n",
      "\n",
      "# Display the Images\n",
      "sideBySide(Image(url=imageURL),Image(url=fractionURL))\n"
     ],
     "language": "python",
     "metadata": {},
     "outputs": [
      {
       "output_type": "stream",
       "stream": "stdout",
       "text": [
        "https://earthengine.googleapis.com//api/thumb?thumbid=ed3fa44cfa625fe30b1e50bb672d0fe3&token=8b7ff7f6486b637251f08d1616d66bcb\n",
        "https://earthengine.googleapis.com//api/thumb?thumbid=1dff93faa8ac9f41ddd4588c7327cc58&token=d7397a05b39dbdd66ccf82b2051805e4"
       ]
      },
      {
       "output_type": "stream",
       "stream": "stdout",
       "text": [
        "\n"
       ]
      },
      {
       "html": [
        "<div style='float: left;'><img src=\"https://earthengine.googleapis.com//api/thumb?thumbid=ed3fa44cfa625fe30b1e50bb672d0fe3&token=8b7ff7f6486b637251f08d1616d66bcb\" /></div><div style='float: left;'><img src=\"https://earthengine.googleapis.com//api/thumb?thumbid=1dff93faa8ac9f41ddd4588c7327cc58&token=d7397a05b39dbdd66ccf82b2051805e4\" /></div>"
       ],
       "output_type": "pyout",
       "prompt_number": 2,
       "text": [
        "<eeHelper.sideBySide instance at 0x2589ef0>"
       ]
      }
     ],
     "prompt_number": 2
    },
    {
     "cell_type": "code",
     "collapsed": false,
     "input": [
      "# Seasonal Specification\n",
      "# The seasons are 3 month periods starting from January 1988\n",
      "# so 4 would be January 1989 etc\n",
      "seasonStart = 1\n",
      "seasonEnd = 95\n",
      "\n",
      "\n",
      "base = datetime.datetime(1988,1,1)\n",
      "dateList = [base + relativedelta(months=3*(x-1)) for x in range(seasonStart, seasonEnd)]\n",
      "\n",
      "# Connect to the field site fusion table: http://goo.gl/ui08FG\n",
      "fieldSites = ee.FeatureCollection('ft:1SBHVmJQkj-Y1Ye9Kyd5omXWm9D3BiTkk2om-8QaF')\n",
      "\n",
      "# Initialise the output array\n",
      "fieldArray = []\n",
      "\n",
      "# Build the combined reducer\n",
      "reducerMean = ee.Reducer.mean().forEach(['Bare_Mean','Green_Mean','Dead_Mean'])\n",
      "reducerSdev = ee.Reducer.stdDev().forEach(['Bare_StDev','Green_StDev','Dead_StDev'])\n",
      "reducerCombined = reducerMean.combine(reducerSdev, None, True)\n",
      "\n",
      "# Progress Bar\n",
      "pBar = progressBar(seasonEnd-seasonStart-1)\n",
      "\n",
      "for season in range(seasonStart,seasonEnd):\n",
      "    pBar.animate(season - seasonStart)\n",
      "    # Unmix the image for the selected season\n",
      "    coverFractions = applyRSCtransforms(seasonalMedian(collection,season)) \\\n",
      "    .unmix([end_bare,end_gren,end_dead]).select([\"band_0\",\"band_1\",\"band_2\"])\n",
      "    # Find the mean and standard deviation for all the sites\n",
      "    summarySites = coverFractions.reduceRegions(fieldSites, reducerCombined, 30).getInfo()['features']\n",
      "    # Extract the relevant data from the summary sites into an array\n",
      "    for site in summarySites:\n",
      "        siteData =  site['properties'] # The feature properties\n",
      "        fieldArray.append([season,siteData['TARGET_FID'],siteData['Bare_Mean'],\\\n",
      "                           siteData['Green_Mean'],siteData['Dead_Mean'],\\\n",
      "                           siteData['Bare_StDev'],siteData['Green_StDev'],siteData['Dead_StDev']])\n",
      "\n"
     ],
     "language": "python",
     "metadata": {},
     "outputs": [
      {
       "output_type": "stream",
       "stream": "stdout",
       "text": [
        " \r",
        "[                  0%                  ] "
       ]
      },
      {
       "output_type": "stream",
       "stream": "stdout",
       "text": [
        "\r",
        "[                  1%                  ]  1 of 93 complete "
       ]
      },
      {
       "output_type": "stream",
       "stream": "stdout",
       "text": [
        "\r",
        "[*                 2%                  ]  2 of 93 complete "
       ]
      },
      {
       "output_type": "stream",
       "stream": "stdout",
       "text": [
        "\r",
        "[*                 3%                  ]  3 of 93 complete "
       ]
      },
      {
       "output_type": "stream",
       "stream": "stdout",
       "text": [
        "\r",
        "[**                4%                  ]  4 of 93 complete "
       ]
      },
      {
       "output_type": "stream",
       "stream": "stdout",
       "text": [
        "\r",
        "[**                5%                  ]  5 of 93 complete "
       ]
      },
      {
       "output_type": "stream",
       "stream": "stdout",
       "text": [
        "\r",
        "[**                6%                  ]  6 of 93 complete "
       ]
      },
      {
       "output_type": "stream",
       "stream": "stdout",
       "text": [
        "\r",
        "[***               8%                  ]  7 of 93 complete "
       ]
      },
      {
       "output_type": "stream",
       "stream": "stdout",
       "text": [
        "\r",
        "[***               9%                  ]  8 of 93 complete "
       ]
      },
      {
       "output_type": "stream",
       "stream": "stdout",
       "text": [
        "\r",
        "[****             10%                  ]  9 of 93 complete "
       ]
      },
      {
       "output_type": "stream",
       "stream": "stdout",
       "text": [
        "\r",
        "[****             11%                  ]  10 of 93 complete "
       ]
      },
      {
       "output_type": "stream",
       "stream": "stdout",
       "text": [
        "\r",
        "[*****            12%                  ]  11 of 93 complete "
       ]
      },
      {
       "output_type": "stream",
       "stream": "stdout",
       "text": [
        "\r",
        "[*****            13%                  ]  12 of 93 complete "
       ]
      },
      {
       "output_type": "stream",
       "stream": "stdout",
       "text": [
        "\r",
        "[*****            14%                  ]  13 of 93 complete "
       ]
      },
      {
       "output_type": "stream",
       "stream": "stdout",
       "text": [
        "\r",
        "[******           15%                  ]  14 of 93 complete "
       ]
      },
      {
       "output_type": "stream",
       "stream": "stdout",
       "text": [
        "\r",
        "[******           16%                  ]  15 of 93 complete "
       ]
      },
      {
       "output_type": "stream",
       "stream": "stdout",
       "text": [
        "\r",
        "[******           17%                  ]  16 of 93 complete "
       ]
      },
      {
       "output_type": "stream",
       "stream": "stdout",
       "text": [
        "\r",
        "[*******          18%                  ]  17 of 93 complete "
       ]
      },
      {
       "output_type": "stream",
       "stream": "stdout",
       "text": [
        "\r",
        "[*******          19%                  ]  18 of 93 complete "
       ]
      },
      {
       "output_type": "stream",
       "stream": "stdout",
       "text": [
        "\r",
        "[********         20%                  ]  19 of 93 complete "
       ]
      },
      {
       "output_type": "stream",
       "stream": "stdout",
       "text": [
        "\r",
        "[********         22%                  ]  20 of 93 complete "
       ]
      },
      {
       "output_type": "stream",
       "stream": "stdout",
       "text": [
        "\r",
        "[*********        23%                  ]  21 of 93 complete "
       ]
      },
      {
       "output_type": "stream",
       "stream": "stdout",
       "text": [
        "\r",
        "[*********        24%                  ]  22 of 93 complete "
       ]
      },
      {
       "output_type": "stream",
       "stream": "stdout",
       "text": [
        "\r",
        "[**********       25%                  ]  23 of 93 complete "
       ]
      },
      {
       "output_type": "stream",
       "stream": "stdout",
       "text": [
        "\r",
        "[**********       26%                  ]  24 of 93 complete "
       ]
      },
      {
       "output_type": "stream",
       "stream": "stdout",
       "text": [
        "\r",
        "[**********       27%                  ]  25 of 93 complete "
       ]
      },
      {
       "output_type": "stream",
       "stream": "stdout",
       "text": [
        "\r",
        "[***********      28%                  ]  26 of 93 complete "
       ]
      },
      {
       "output_type": "stream",
       "stream": "stdout",
       "text": [
        "\r",
        "[***********      29%                  ]  27 of 93 complete "
       ]
      },
      {
       "output_type": "stream",
       "stream": "stdout",
       "text": [
        "\r",
        "[***********      30%                  ]  28 of 93 complete "
       ]
      },
      {
       "output_type": "stream",
       "stream": "stdout",
       "text": [
        "\r",
        "[************     31%                  ]  29 of 93 complete "
       ]
      },
      {
       "output_type": "stream",
       "stream": "stdout",
       "text": [
        "\r",
        "[************     32%                  ]  30 of 93 complete "
       ]
      },
      {
       "output_type": "stream",
       "stream": "stdout",
       "text": [
        "\r",
        "[*************    33%                  ]  31 of 93 complete "
       ]
      },
      {
       "output_type": "stream",
       "stream": "stdout",
       "text": [
        "\r",
        "[*************    34%                  ]  32 of 93 complete "
       ]
      },
      {
       "output_type": "stream",
       "stream": "stdout",
       "text": [
        "\r",
        "[*************    35%                  ]  33 of 93 complete "
       ]
      },
      {
       "output_type": "stream",
       "stream": "stdout",
       "text": [
        "\r",
        "[**************   37%                  ]  34 of 93 complete "
       ]
      },
      {
       "output_type": "stream",
       "stream": "stdout",
       "text": [
        "\r",
        "[**************   38%                  ]  35 of 93 complete "
       ]
      },
      {
       "output_type": "stream",
       "stream": "stdout",
       "text": [
        "\r",
        "[***************  39%                  ]  36 of 93 complete "
       ]
      },
      {
       "output_type": "stream",
       "stream": "stdout",
       "text": [
        "\r",
        "[***************  40%                  ]  37 of 93 complete "
       ]
      },
      {
       "output_type": "stream",
       "stream": "stdout",
       "text": [
        "\r",
        "[**************** 41%                  ]  38 of 93 complete "
       ]
      },
      {
       "output_type": "stream",
       "stream": "stdout",
       "text": [
        "\r",
        "[**************** 42%                  ]  39 of 93 complete "
       ]
      },
      {
       "output_type": "stream",
       "stream": "stdout",
       "text": [
        "\r",
        "[**************** 43%                  ]  40 of 93 complete "
       ]
      },
      {
       "output_type": "stream",
       "stream": "stdout",
       "text": [
        "\r",
        "[*****************44%                  ]  41 of 93 complete "
       ]
      },
      {
       "output_type": "stream",
       "stream": "stdout",
       "text": [
        "\r",
        "[*****************45%                  ]  42 of 93 complete "
       ]
      },
      {
       "output_type": "stream",
       "stream": "stdout",
       "text": [
        "\r",
        "[*****************46%                  ]  43 of 93 complete "
       ]
      },
      {
       "output_type": "stream",
       "stream": "stdout",
       "text": [
        "\r",
        "[*****************47%                  ]  44 of 93 complete "
       ]
      },
      {
       "output_type": "stream",
       "stream": "stdout",
       "text": [
        "\r",
        "[*****************48%                  ]  45 of 93 complete "
       ]
      },
      {
       "output_type": "stream",
       "stream": "stdout",
       "text": [
        "\r",
        "[*****************49%                  ]  46 of 93 complete "
       ]
      },
      {
       "output_type": "stream",
       "stream": "stdout",
       "text": [
        "\r",
        "[*****************51%                  ]  47 of 93 complete "
       ]
      },
      {
       "output_type": "stream",
       "stream": "stdout",
       "text": [
        "\r",
        "[*****************52%                  ]  48 of 93 complete "
       ]
      },
      {
       "output_type": "stream",
       "stream": "stdout",
       "text": [
        "\r",
        "[*****************53%                  ]  49 of 93 complete "
       ]
      },
      {
       "output_type": "stream",
       "stream": "stdout",
       "text": [
        "\r",
        "[*****************54%*                 ]  50 of 93 complete "
       ]
      },
      {
       "output_type": "stream",
       "stream": "stdout",
       "text": [
        "\r",
        "[*****************55%*                 ]  51 of 93 complete "
       ]
      },
      {
       "output_type": "stream",
       "stream": "stdout",
       "text": [
        "\r",
        "[*****************56%*                 ]  52 of 93 complete "
       ]
      },
      {
       "output_type": "stream",
       "stream": "stdout",
       "text": [
        "\r",
        "[*****************57%**                ]  53 of 93 complete "
       ]
      },
      {
       "output_type": "stream",
       "stream": "stdout",
       "text": [
        "\r",
        "[*****************58%**                ]  54 of 93 complete "
       ]
      },
      {
       "output_type": "stream",
       "stream": "stdout",
       "text": [
        "\r",
        "[*****************59%**                ]  55 of 93 complete "
       ]
      },
      {
       "output_type": "stream",
       "stream": "stdout",
       "text": [
        "\r",
        "[*****************60%***               ]  56 of 93 complete "
       ]
      },
      {
       "output_type": "stream",
       "stream": "stdout",
       "text": [
        "\r",
        "[*****************61%***               ]  57 of 93 complete "
       ]
      },
      {
       "output_type": "stream",
       "stream": "stdout",
       "text": [
        "\r",
        "[*****************62%****              ]  58 of 93 complete "
       ]
      },
      {
       "output_type": "stream",
       "stream": "stdout",
       "text": [
        "\r",
        "[*****************63%****              ]  59 of 93 complete "
       ]
      },
      {
       "output_type": "stream",
       "stream": "stdout",
       "text": [
        "\r",
        "[*****************65%*****             ]  60 of 93 complete "
       ]
      },
      {
       "output_type": "stream",
       "stream": "stdout",
       "text": [
        "\r",
        "[*****************66%*****             ]  61 of 93 complete "
       ]
      },
      {
       "output_type": "stream",
       "stream": "stdout",
       "text": [
        "\r",
        "[*****************67%*****             ]  62 of 93 complete "
       ]
      },
      {
       "output_type": "stream",
       "stream": "stdout",
       "text": [
        "\r",
        "[*****************68%******            ]  63 of 93 complete "
       ]
      },
      {
       "output_type": "stream",
       "stream": "stdout",
       "text": [
        "\r",
        "[*****************69%******            ]  64 of 93 complete "
       ]
      },
      {
       "output_type": "stream",
       "stream": "stdout",
       "text": [
        "\r",
        "[*****************70%*******           ]  65 of 93 complete "
       ]
      },
      {
       "output_type": "stream",
       "stream": "stdout",
       "text": [
        "\r",
        "[*****************71%*******           ]  66 of 93 complete "
       ]
      },
      {
       "output_type": "stream",
       "stream": "stdout",
       "text": [
        "\r",
        "[*****************72%*******           ]  67 of 93 complete "
       ]
      },
      {
       "output_type": "stream",
       "stream": "stdout",
       "text": [
        "\r",
        "[*****************73%********          ]  68 of 93 complete "
       ]
      },
      {
       "output_type": "stream",
       "stream": "stdout",
       "text": [
        "\r",
        "[*****************74%********          ]  69 of 93 complete "
       ]
      },
      {
       "output_type": "stream",
       "stream": "stdout",
       "text": [
        "\r",
        "[*****************75%*********         ]  70 of 93 complete "
       ]
      },
      {
       "output_type": "stream",
       "stream": "stdout",
       "text": [
        "\r",
        "[*****************76%*********         ]  71 of 93 complete "
       ]
      },
      {
       "output_type": "stream",
       "stream": "stdout",
       "text": [
        "\r",
        "[*****************77%*********         ]  72 of 93 complete "
       ]
      },
      {
       "output_type": "stream",
       "stream": "stdout",
       "text": [
        "\r",
        "[*****************78%**********        ]  73 of 93 complete "
       ]
      },
      {
       "output_type": "stream",
       "stream": "stdout",
       "text": [
        "\r",
        "[*****************80%**********        ]  74 of 93 complete "
       ]
      },
      {
       "output_type": "stream",
       "stream": "stdout",
       "text": [
        "\r",
        "[*****************81%***********       ]  75 of 93 complete "
       ]
      },
      {
       "output_type": "stream",
       "stream": "stdout",
       "text": [
        "\r",
        "[*****************82%***********       ]  76 of 93 complete "
       ]
      },
      {
       "output_type": "stream",
       "stream": "stdout",
       "text": [
        "\r",
        "[*****************83%************      ]  77 of 93 complete "
       ]
      },
      {
       "output_type": "stream",
       "stream": "stdout",
       "text": [
        "\r",
        "[*****************84%************      ]  78 of 93 complete "
       ]
      },
      {
       "output_type": "stream",
       "stream": "stdout",
       "text": [
        "\r",
        "[*****************85%************      ]  79 of 93 complete "
       ]
      },
      {
       "output_type": "stream",
       "stream": "stdout",
       "text": [
        "\r",
        "[*****************86%*************     ]  80 of 93 complete "
       ]
      },
      {
       "output_type": "stream",
       "stream": "stdout",
       "text": [
        "\r",
        "[*****************87%*************     ]  81 of 93 complete "
       ]
      },
      {
       "output_type": "stream",
       "stream": "stdout",
       "text": [
        "\r",
        "[*****************88%*************     ]  82 of 93 complete "
       ]
      },
      {
       "output_type": "stream",
       "stream": "stdout",
       "text": [
        "\r",
        "[*****************89%**************    ]  83 of 93 complete "
       ]
      },
      {
       "output_type": "stream",
       "stream": "stdout",
       "text": [
        "\r",
        "[*****************90%**************    ]  84 of 93 complete "
       ]
      },
      {
       "output_type": "stream",
       "stream": "stdout",
       "text": [
        "\r",
        "[*****************91%***************   ]  85 of 93 complete "
       ]
      },
      {
       "output_type": "stream",
       "stream": "stdout",
       "text": [
        "\r",
        "[*****************92%***************   ]  86 of 93 complete "
       ]
      },
      {
       "output_type": "stream",
       "stream": "stdout",
       "text": [
        "\r",
        "[*****************94%****************  ]  87 of 93 complete "
       ]
      },
      {
       "output_type": "stream",
       "stream": "stdout",
       "text": [
        "\r",
        "[*****************95%****************  ]  88 of 93 complete "
       ]
      },
      {
       "output_type": "stream",
       "stream": "stdout",
       "text": [
        "\r",
        "[*****************96%****************  ]  89 of 93 complete "
       ]
      },
      {
       "output_type": "stream",
       "stream": "stdout",
       "text": [
        "\r",
        "[*****************97%***************** ]  90 of 93 complete "
       ]
      },
      {
       "output_type": "stream",
       "stream": "stdout",
       "text": [
        "\r",
        "[*****************98%***************** ]  91 of 93 complete "
       ]
      },
      {
       "output_type": "stream",
       "stream": "stdout",
       "text": [
        "\r",
        "[*****************99%******************]  92 of 93 complete "
       ]
      },
      {
       "output_type": "stream",
       "stream": "stdout",
       "text": [
        "\r",
        "[****************100%******************]  93 of 93 complete\n"
       ]
      }
     ],
     "prompt_number": 4
    },
    {
     "cell_type": "code",
     "collapsed": false,
     "input": [
      "# Extraction Examples\n",
      "fieldArray = numpy.asarray(fieldArray)\n",
      "seasonData1 = fieldArray[fieldArray[:,0]==1]\n",
      "siteData1  = fieldArray[fieldArray[:,1]==1]\n",
      "\n",
      "\n",
      "\n",
      "pylab.plot(dateList,fieldArray[fieldArray[:,1]==1][:,2],'r')+plot(dateList,fieldArray[fieldArray[:,1]==1][:,3],'g')+plot(dateList,fieldArray[fieldArray[:,1]==1][:,4],'y')"
     ],
     "language": "python",
     "metadata": {},
     "outputs": [
      {
       "output_type": "pyout",
       "prompt_number": 23,
       "text": [
        "[<matplotlib.lines.Line2D at 0x7f1b9c058e10>,\n",
        " <matplotlib.lines.Line2D at 0x7f1b9c05c310>,\n",
        " <matplotlib.lines.Line2D at 0x7f1b9c05c810>]"
       ]
      },
      {
       "output_type": "display_data",
       "png": "[encoded data removed]"
      }
     ],
     "prompt_number": 23
    },
    {
     "cell_type": "code",
     "collapsed": false,
     "input": [],
     "language": "python",
     "metadata": {},
     "outputs": [
      {
       "output_type": "stream",
       "stream": "stdout",
       "text": [
        "[datetime.datetime(1988, 1, 1, 0, 0), datetime.datetime(1988, 4, 1, 0, 0), datetime.datetime(1988, 7, 1, 0, 0), datetime.datetime(1988, 10, 1, 0, 0), datetime.datetime(1989, 1, 1, 0, 0), datetime.datetime(1989, 4, 1, 0, 0), datetime.datetime(1989, 7, 1, 0, 0), datetime.datetime(1989, 10, 1, 0, 0), datetime.datetime(1990, 1, 1, 0, 0), datetime.datetime(1990, 4, 1, 0, 0), datetime.datetime(1990, 7, 1, 0, 0), datetime.datetime(1990, 10, 1, 0, 0), datetime.datetime(1991, 1, 1, 0, 0), datetime.datetime(1991, 4, 1, 0, 0), datetime.datetime(1991, 7, 1, 0, 0), datetime.datetime(1991, 10, 1, 0, 0), datetime.datetime(1992, 1, 1, 0, 0), datetime.datetime(1992, 4, 1, 0, 0), datetime.datetime(1992, 7, 1, 0, 0), datetime.datetime(1992, 10, 1, 0, 0), datetime.datetime(1993, 1, 1, 0, 0), datetime.datetime(1993, 4, 1, 0, 0), datetime.datetime(1993, 7, 1, 0, 0), datetime.datetime(1993, 10, 1, 0, 0), datetime.datetime(1994, 1, 1, 0, 0), datetime.datetime(1994, 4, 1, 0, 0), datetime.datetime(1994, 7, 1, 0, 0), datetime.datetime(1994, 10, 1, 0, 0), datetime.datetime(1995, 1, 1, 0, 0), datetime.datetime(1995, 4, 1, 0, 0), datetime.datetime(1995, 7, 1, 0, 0), datetime.datetime(1995, 10, 1, 0, 0), datetime.datetime(1996, 1, 1, 0, 0), datetime.datetime(1996, 4, 1, 0, 0), datetime.datetime(1996, 7, 1, 0, 0), datetime.datetime(1996, 10, 1, 0, 0), datetime.datetime(1997, 1, 1, 0, 0), datetime.datetime(1997, 4, 1, 0, 0), datetime.datetime(1997, 7, 1, 0, 0), datetime.datetime(1997, 10, 1, 0, 0), datetime.datetime(1998, 1, 1, 0, 0), datetime.datetime(1998, 4, 1, 0, 0), datetime.datetime(1998, 7, 1, 0, 0), datetime.datetime(1998, 10, 1, 0, 0), datetime.datetime(1999, 1, 1, 0, 0), datetime.datetime(1999, 4, 1, 0, 0), datetime.datetime(1999, 7, 1, 0, 0), datetime.datetime(1999, 10, 1, 0, 0), datetime.datetime(2000, 1, 1, 0, 0), datetime.datetime(2000, 4, 1, 0, 0), datetime.datetime(2000, 7, 1, 0, 0), datetime.datetime(2000, 10, 1, 0, 0), datetime.datetime(2001, 1, 1, 0, 0), datetime.datetime(2001, 4, 1, 0, 0), datetime.datetime(2001, 7, 1, 0, 0), datetime.datetime(2001, 10, 1, 0, 0), datetime.datetime(2002, 1, 1, 0, 0), datetime.datetime(2002, 4, 1, 0, 0), datetime.datetime(2002, 7, 1, 0, 0), datetime.datetime(2002, 10, 1, 0, 0), datetime.datetime(2003, 1, 1, 0, 0), datetime.datetime(2003, 4, 1, 0, 0), datetime.datetime(2003, 7, 1, 0, 0), datetime.datetime(2003, 10, 1, 0, 0), datetime.datetime(2004, 1, 1, 0, 0), datetime.datetime(2004, 4, 1, 0, 0), datetime.datetime(2004, 7, 1, 0, 0), datetime.datetime(2004, 10, 1, 0, 0), datetime.datetime(2005, 1, 1, 0, 0), datetime.datetime(2005, 4, 1, 0, 0), datetime.datetime(2005, 7, 1, 0, 0), datetime.datetime(2005, 10, 1, 0, 0), datetime.datetime(2006, 1, 1, 0, 0), datetime.datetime(2006, 4, 1, 0, 0), datetime.datetime(2006, 7, 1, 0, 0), datetime.datetime(2006, 10, 1, 0, 0), datetime.datetime(2007, 1, 1, 0, 0), datetime.datetime(2007, 4, 1, 0, 0), datetime.datetime(2007, 7, 1, 0, 0), datetime.datetime(2007, 10, 1, 0, 0), datetime.datetime(2008, 1, 1, 0, 0), datetime.datetime(2008, 4, 1, 0, 0), datetime.datetime(2008, 7, 1, 0, 0), datetime.datetime(2008, 10, 1, 0, 0), datetime.datetime(2009, 1, 1, 0, 0), datetime.datetime(2009, 4, 1, 0, 0), datetime.datetime(2009, 7, 1, 0, 0), datetime.datetime(2009, 10, 1, 0, 0), datetime.datetime(2010, 1, 1, 0, 0), datetime.datetime(2010, 4, 1, 0, 0), datetime.datetime(2010, 7, 1, 0, 0), datetime.datetime(2010, 10, 1, 0, 0), datetime.datetime(2011, 1, 1, 0, 0), datetime.datetime(2011, 4, 1, 0, 0)]\n"
       ]
      }
     ],
     "prompt_number": 21
    },
    {
     "cell_type": "code",
     "collapsed": false,
     "input": [
      "pylab.plot?"
     ],
     "language": "python",
     "metadata": {},
     "outputs": [],
     "prompt_number": 20
    },
    {
     "cell_type": "code",
     "collapsed": false,
     "input": [],
     "language": "python",
     "metadata": {},
     "outputs": []
    }
   ],
   "metadata": {}
  }
 ]
}