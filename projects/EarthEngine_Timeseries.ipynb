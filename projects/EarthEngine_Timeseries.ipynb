{
 "metadata": {
  "name": "EarthEngine_Timeseries"
 },
 "nbformat": 3,
 "nbformat_minor": 0,
 "worksheets": [
  {
   "cells": [
    {
     "cell_type": "code",
     "collapsed": false,
     "input": [
      "from IPython.core.display import Image\n",
      "import numpy, matplotlib, datetime\n",
      "from dateutil.relativedelta import relativedelta\n",
      "import matplotlib.pyplot\n",
      "import ee\n",
      "from eeHelper import startEE, progressBar,sideBySide,applyRSCtransforms,seasonalMedian,nominalMedian\n",
      "\n",
      "\n",
      "# Initialise the EE interface\n",
      "startEE()\n",
      "\n",
      "\n",
      "# Endmembers derived from the Auscover Field Sites Database using a 60 day time based weighting and the following Python code:\n",
      "# endmembersWeighted=pinv2(dot(timeWeight*array([totalPVCoverEstimate,totalNPVCoverEstimate,totalBareCover]),pinv2(timeWeight*satelliteReflectanceTransformed.transpose(),rcond=rcond)))\n",
      "# Cross-validation performed to select the most robust rcond for the pseudoinverse\n",
      "# Optimization performed to select the optimal sum-to-one constraint\n",
      "# Recalibrated to take into account unconstrained unmixing in the EE\n",
      "# Overall global RMSE unmixing error is 13.1%\n",
      "# RMSE of the derived fractions against 675 field sites is:\n",
      "# Bare:  0.11959856\n",
      "# Dead:  0.14945009\n",
      "# Green: 0.12286588\n",
      "\n",
      "end_gren = [0.253579,0.327519,0.314920,0.189665,-0.402369,-0.385083,-0.170990,-0.198985,-0.439129,0.347166,0.212352,\\\n",
      "            0.129110,-0.276156,-0.392998,-0.044023,-0.281611,-0.502729,0.359120,0.247346,-0.122324,-0.026948,-0.381508,\\\n",
      "            -0.141129,-0.149403,-0.043387,-0.036671,-0.384573,-0.022314,-0.653884,-0.735389,-0.142463,-0.369733,0.013781,\\\n",
      "            -0.434880,-0.605286,-0.148295,-0.050705,0.212810,0.006745,0.256352,0.032301,-0.169641,-0.442308,0.211869,\\\n",
      "            0.053557,0.542271,0.500308,0.605675,0.480604,0.332799,-0.414304,-0.436737,-0.065788,-0.271601,-0.509302,1.300000];\n",
      "end_dead = [0.252504,0.283792,0.316628,0.173395,-0.411940,-0.351980,-0.278245,-0.184954,-0.450937,0.311198,0.260045,\\\n",
      "            0.131228,-0.378997,-0.408858,-0.259541,-0.284724,-0.587906,0.303342,0.189293,-0.071804,-0.004752,-0.377986,\\\n",
      "            -0.124072,-0.160303,-0.038490,-0.079463,-0.279100,-0.259915,-0.588145,-0.798962,-0.105199,-0.270696,-0.090768,\\\n",
      "            -0.399483,-0.607516,-0.170258,0.051373,0.266878,-0.043404,0.091837,0.250722,-0.115225,-0.391340,0.132854,\\\n",
      "            -0.108749,0.533653,0.555142,0.505719,0.527999,0.303566,-0.379143,-0.319080,-0.342777,-0.241111,-0.499001,1.300000];\n",
      "end_bare = [0.258812,0.278118,0.316989,0.193853,-0.405281,-0.338148,-0.313860,-0.188326,-0.401638,0.303030,0.265953,\\\n",
      "            0.163120,-0.396116,-0.407738,-0.332991,-0.301993,-0.528293,0.291952,0.206056,-0.091901,-0.058606,-0.354632,\\\n",
      "            -0.119910,-0.130250,-0.001546,-0.018040,-0.205956,-0.243867,-0.600472,-0.668552,-0.171761,-0.290584,-0.181847,\\\n",
      "            -0.436098,-0.593558,-0.157605,0.101264,0.261008,-0.059952,-0.052026,0.203171,-0.003674,-0.242370,0.111792,\\\n",
      "            -0.178733,0.536188,0.570203,0.492609,0.497207,0.365561,-0.366652,-0.274201,-0.434495,-0.244632,-0.371315,1.300000];\n",
      "\n",
      "\n",
      "\n"
     ],
     "language": "python",
     "metadata": {},
     "outputs": [
      {
       "output_type": "stream",
       "stream": "stdout",
       "text": [
        "Initialized EE\n"
       ]
      },
      {
       "output_type": "stream",
       "stream": "stderr",
       "text": [
        "No handlers could be found for logger \"oauth2client.util\"\n"
       ]
      }
     ],
     "prompt_number": 5
    },
    {
     "cell_type": "code",
     "collapsed": false,
     "input": [
      "# Display the images for a given season\n",
      "\n",
      "# Which image collection to Use\n",
      "collection = 'LANDSAT/LT5_L1T_TOA'\n",
      "\n",
      "\n",
      "# Connect to the Study Extent fusion table: http://goo.gl/upA1Bm\n",
      "studyExtent = ee.FeatureCollection(\"ft:14aDL4lvjRpWF9Ei6hi-paXq8ezC7rit_022ZUp7I\")\n",
      "\n",
      "# Seasonal Specification\n",
      "# The seasons are 3 month periods starting from January 1988\n",
      "# so 4 would be January 1989 etc\n",
      "season = 11\n",
      "\n",
      "# Get the bounding region for the thumbnail extract\n",
      "coords = studyExtent.geometry().getInfo()['coordinates']\n",
      "\n",
      "# Use the Thumbnail URL builder to display the Landsat Image for the last season\n",
      "allBandMosaic = seasonalMedian(collection,season);\n",
      "imageURL = allBandMosaic.select('B5', 'B4', 'B3').getThumbUrl({'region': coords,'format': 'png','min': 0.01,'max': 0.5,'size': '500'})\n",
      "print imageURL\n",
      "\n",
      "# Use the Thumbnail URL builder to display the fraction image for the last season\n",
      "coverFractions = applyRSCtransforms(allBandMosaic).unmix([end_bare,end_gren,end_dead]).select([\"band_0\",\"band_1\",\"band_2\"],\\\n",
      "                                                                                              [\"Bare_Season\"+str(season),\\\n",
      "                                                                                              \"Green_Season\"+str(season),\\\n",
      "                                                                                               \"Dead_Season\"+str(season)]);\n",
      "fractionURL = coverFractions.getThumbUrl({'region': coords,'format': 'png','min': 0.01,'max': 0.99,'size': '500'})\n",
      "print fractionURL\n",
      "\n",
      "# Display the Images\n",
      "sideBySide(Image(url=imageURL),Image(url=fractionURL))\n"
     ],
     "language": "python",
     "metadata": {},
     "outputs": [
      {
       "output_type": "stream",
       "stream": "stdout",
       "text": [
        "https://earthengine.googleapis.com//api/thumb?thumbid=1d240911109d4244331948dc5592ffeb&token=5e68373344e9a1da9e0322cf8039deee\n",
        "https://earthengine.googleapis.com//api/thumb?thumbid=0348474c2bafbae1e887e2bd636a9722&token=af771362d171ce276eed1d1b87b359e1"
       ]
      },
      {
       "output_type": "stream",
       "stream": "stdout",
       "text": [
        "\n"
       ]
      },
      {
       "html": [
        "<div style='float: left;'><img src=\"https://earthengine.googleapis.com//api/thumb?thumbid=1d240911109d4244331948dc5592ffeb&token=5e68373344e9a1da9e0322cf8039deee\" /></div><div style='float: left;'><img src=\"https://earthengine.googleapis.com//api/thumb?thumbid=0348474c2bafbae1e887e2bd636a9722&token=af771362d171ce276eed1d1b87b359e1\" /></div>"
       ],
       "output_type": "pyout",
       "prompt_number": 6,
       "text": [
        "<eeHelper.sideBySide instance at 0x31b1098>"
       ]
      }
     ],
     "prompt_number": 6
    },
    {
     "cell_type": "code",
     "collapsed": false,
     "input": [
      "# Seasonal Specification\n",
      "# The seasons are 3 month periods starting from January 1988\n",
      "# so 4 would be January 1989 etc\n",
      "seasonStart = 1\n",
      "seasonEnd = 100\n",
      "\n",
      "\n",
      "# Connect to the field site fusion table: http://goo.gl/ui08FG\n",
      "fieldSites = ee.FeatureCollection('ft:1SBHVmJQkj-Y1Ye9Kyd5omXWm9D3BiTkk2om-8QaF')\n",
      "\n",
      "# Initialise the output array\n",
      "fieldArray = []\n",
      "\n",
      "# Build the combined reducer\n",
      "reducerMean = ee.Reducer.mean().forEach(['Bare_Mean','Green_Mean','Dead_Mean'])\n",
      "reducerSdev = ee.Reducer.stdDev().forEach(['Bare_StDev','Green_StDev','Dead_StDev'])\n",
      "reducerCombined = reducerMean.combine(reducerSdev, None, True)\n",
      "\n",
      "# Progress Bar\n",
      "pBar = progressBar(seasonEnd-seasonStart-1)\n",
      "\n",
      "for season in range(seasonStart,seasonEnd):\n",
      "    pBar.animate(season - seasonStart)\n",
      "    # Unmix the image for the selected season\n",
      "    collection = 'LANDSAT/LT5_L1T_TOA' if season < 95  else 'LANDSAT/LE7_L1T_TOA'\n",
      "    coverFractions = applyRSCtransforms(seasonalMedian(collection,season)) \\\n",
      "    .unmix([end_bare,end_gren,end_dead]).select([\"band_0\",\"band_1\",\"band_2\"])\n",
      "    # Find the mean and standard deviation for all the sites\n",
      "    summarySites = coverFractions.reduceRegions(fieldSites, reducerCombined, 30).getInfo()['features']\n",
      "    # Extract the relevant data from the summary sites into an array\n",
      "    for site in summarySites:\n",
      "        siteData =  site['properties'] # The feature properties\n",
      "        fieldArray.append([season,siteData['TARGET_FID'],siteData['Bare_Mean'],\\\n",
      "                           siteData['Green_Mean'],siteData['Dead_Mean'],\\\n",
      "                           siteData['Bare_StDev'],siteData['Green_StDev'],siteData['Dead_StDev']])\n",
      "\n"
     ],
     "language": "python",
     "metadata": {},
     "outputs": [
      {
       "output_type": "stream",
       "stream": "stdout",
       "text": [
        "\r",
        "[                  0%                  ] "
       ]
      },
      {
       "output_type": "stream",
       "stream": "stdout",
       "text": [
        "\r",
        "[                  1%                  ]  1 of 98 complete "
       ]
      },
      {
       "output_type": "stream",
       "stream": "stdout",
       "text": [
        "\r",
        "[*                 2%                  ]  2 of 98 complete "
       ]
      },
      {
       "output_type": "stream",
       "stream": "stdout",
       "text": [
        "\r",
        "[*                 3%                  ]  3 of 98 complete "
       ]
      },
      {
       "output_type": "stream",
       "stream": "stdout",
       "text": [
        "\r",
        "[**                4%                  ]  4 of 98 complete "
       ]
      },
      {
       "output_type": "stream",
       "stream": "stdout",
       "text": [
        "\r",
        "[**                5%                  ]  5 of 98 complete "
       ]
      },
      {
       "output_type": "stream",
       "stream": "stdout",
       "text": [
        "\r",
        "[**                6%                  ]  6 of 98 complete "
       ]
      },
      {
       "output_type": "stream",
       "stream": "stdout",
       "text": [
        "\r",
        "[***               7%                  ]  7 of 98 complete "
       ]
      },
      {
       "output_type": "stream",
       "stream": "stdout",
       "text": [
        "\r",
        "[***               8%                  ]  8 of 98 complete "
       ]
      },
      {
       "output_type": "stream",
       "stream": "stdout",
       "text": [
        "\r",
        "[***               9%                  ]  9 of 98 complete "
       ]
      },
      {
       "output_type": "stream",
       "stream": "stdout",
       "text": [
        "\r",
        "[****             10%                  ]  10 of 98 complete "
       ]
      },
      {
       "output_type": "stream",
       "stream": "stdout",
       "text": [
        "\r",
        "[****             11%                  ]  11 of 98 complete "
       ]
      },
      {
       "output_type": "stream",
       "stream": "stdout",
       "text": [
        "\r",
        "[*****            12%                  ]  12 of 98 complete "
       ]
      },
      {
       "output_type": "stream",
       "stream": "stdout",
       "text": [
        "\r",
        "[*****            13%                  ]  13 of 98 complete "
       ]
      },
      {
       "output_type": "stream",
       "stream": "stdout",
       "text": [
        "\r",
        "[*****            14%                  ]  14 of 98 complete "
       ]
      },
      {
       "output_type": "stream",
       "stream": "stdout",
       "text": [
        "\r",
        "[******           15%                  ]  15 of 98 complete "
       ]
      },
      {
       "output_type": "stream",
       "stream": "stdout",
       "text": [
        "\r",
        "[******           16%                  ]  16 of 98 complete "
       ]
      },
      {
       "output_type": "stream",
       "stream": "stdout",
       "text": [
        "\r",
        "[******           17%                  ]  17 of 98 complete "
       ]
      },
      {
       "output_type": "stream",
       "stream": "stdout",
       "text": [
        "\r",
        "[*******          18%                  ]  18 of 98 complete "
       ]
      },
      {
       "output_type": "stream",
       "stream": "stdout",
       "text": [
        "\r",
        "[*******          19%                  ]  19 of 98 complete "
       ]
      },
      {
       "output_type": "stream",
       "stream": "stdout",
       "text": [
        "\r",
        "[********         20%                  ]  20 of 98 complete "
       ]
      },
      {
       "output_type": "stream",
       "stream": "stdout",
       "text": [
        "\r",
        "[********         21%                  ]  21 of 98 complete "
       ]
      },
      {
       "output_type": "stream",
       "stream": "stdout",
       "text": [
        "\r",
        "[********         22%                  ]  22 of 98 complete "
       ]
      },
      {
       "output_type": "stream",
       "stream": "stdout",
       "text": [
        "\r",
        "[*********        23%                  ]  23 of 98 complete "
       ]
      },
      {
       "output_type": "stream",
       "stream": "stdout",
       "text": [
        "\r",
        "[*********        24%                  ]  24 of 98 complete "
       ]
      },
      {
       "output_type": "stream",
       "stream": "stdout",
       "text": [
        "\r",
        "[**********       26%                  ]  25 of 98 complete "
       ]
      },
      {
       "output_type": "stream",
       "stream": "stdout",
       "text": [
        "\r",
        "[**********       27%                  ]  26 of 98 complete "
       ]
      },
      {
       "output_type": "stream",
       "stream": "stdout",
       "text": [
        "\r",
        "[***********      28%                  ]  27 of 98 complete "
       ]
      },
      {
       "output_type": "stream",
       "stream": "stdout",
       "text": [
        "\r",
        "[***********      29%                  ]  28 of 98 complete "
       ]
      },
      {
       "output_type": "stream",
       "stream": "stdout",
       "text": [
        "\r",
        "[***********      30%                  ]  29 of 98 complete "
       ]
      },
      {
       "output_type": "stream",
       "stream": "stdout",
       "text": [
        "\r",
        "[************     31%                  ]  30 of 98 complete "
       ]
      },
      {
       "output_type": "stream",
       "stream": "stdout",
       "text": [
        "\r",
        "[************     32%                  ]  31 of 98 complete "
       ]
      },
      {
       "output_type": "stream",
       "stream": "stdout",
       "text": [
        "\r",
        "[*************    33%                  ]  32 of 98 complete "
       ]
      },
      {
       "output_type": "stream",
       "stream": "stdout",
       "text": [
        "\r",
        "[*************    34%                  ]  33 of 98 complete "
       ]
      },
      {
       "output_type": "stream",
       "stream": "stdout",
       "text": [
        "\r",
        "[*************    35%                  ]  34 of 98 complete "
       ]
      },
      {
       "output_type": "stream",
       "stream": "stdout",
       "text": [
        "\r",
        "[**************   36%                  ]  35 of 98 complete "
       ]
      },
      {
       "output_type": "stream",
       "stream": "stdout",
       "text": [
        "\r",
        "[**************   37%                  ]  36 of 98 complete "
       ]
      },
      {
       "output_type": "stream",
       "stream": "stdout",
       "text": [
        "\r",
        "[**************   38%                  ]  37 of 98 complete "
       ]
      },
      {
       "output_type": "stream",
       "stream": "stdout",
       "text": [
        "\r",
        "[***************  39%                  ]  38 of 98 complete "
       ]
      },
      {
       "output_type": "stream",
       "stream": "stdout",
       "text": [
        "\r",
        "[***************  40%                  ]  39 of 98 complete "
       ]
      },
      {
       "output_type": "stream",
       "stream": "stdout",
       "text": [
        "\r",
        "[**************** 41%                  ]  40 of 98 complete "
       ]
      },
      {
       "output_type": "stream",
       "stream": "stdout",
       "text": [
        "\r",
        "[**************** 42%                  ]  41 of 98 complete "
       ]
      },
      {
       "output_type": "stream",
       "stream": "stdout",
       "text": [
        "\r",
        "[**************** 43%                  ]  42 of 98 complete "
       ]
      },
      {
       "output_type": "stream",
       "stream": "stdout",
       "text": [
        "\r",
        "[*****************44%                  ]  43 of 98 complete "
       ]
      },
      {
       "output_type": "stream",
       "stream": "stdout",
       "text": [
        "\r",
        "[*****************45%                  ]  44 of 98 complete "
       ]
      },
      {
       "output_type": "stream",
       "stream": "stdout",
       "text": [
        "\r",
        "[*****************46%                  ]  45 of 98 complete "
       ]
      },
      {
       "output_type": "stream",
       "stream": "stdout",
       "text": [
        "\r",
        "[*****************47%                  ]  46 of 98 complete "
       ]
      },
      {
       "output_type": "stream",
       "stream": "stdout",
       "text": [
        "\r",
        "[*****************48%                  ]  47 of 98 complete "
       ]
      },
      {
       "output_type": "stream",
       "stream": "stdout",
       "text": [
        "\r",
        "[*****************49%                  ]  48 of 98 complete "
       ]
      },
      {
       "output_type": "stream",
       "stream": "stdout",
       "text": [
        "\r",
        "[*****************50%                  ]  49 of 98 complete "
       ]
      },
      {
       "output_type": "stream",
       "stream": "stdout",
       "text": [
        "\r",
        "[*****************51%                  ]  50 of 98 complete "
       ]
      },
      {
       "output_type": "stream",
       "stream": "stdout",
       "text": [
        "\r",
        "[*****************52%                  ]  51 of 98 complete "
       ]
      },
      {
       "output_type": "stream",
       "stream": "stdout",
       "text": [
        "\r",
        "[*****************53%                  ]  52 of 98 complete "
       ]
      },
      {
       "output_type": "stream",
       "stream": "stdout",
       "text": [
        "\r",
        "[*****************54%*                 ]  53 of 98 complete "
       ]
      },
      {
       "output_type": "stream",
       "stream": "stdout",
       "text": [
        "\r",
        "[*****************55%*                 ]  54 of 98 complete "
       ]
      },
      {
       "output_type": "stream",
       "stream": "stdout",
       "text": [
        "\r",
        "[*****************56%*                 ]  55 of 98 complete "
       ]
      },
      {
       "output_type": "stream",
       "stream": "stdout",
       "text": [
        "\r",
        "[*****************57%**                ]  56 of 98 complete "
       ]
      },
      {
       "output_type": "stream",
       "stream": "stdout",
       "text": [
        "\r",
        "[*****************58%**                ]  57 of 98 complete "
       ]
      },
      {
       "output_type": "stream",
       "stream": "stdout",
       "text": [
        "\r",
        "[*****************59%**                ]  58 of 98 complete "
       ]
      },
      {
       "output_type": "stream",
       "stream": "stdout",
       "text": [
        "\r",
        "[*****************60%***               ]  59 of 98 complete "
       ]
      },
      {
       "output_type": "stream",
       "stream": "stdout",
       "text": [
        "\r",
        "[*****************61%***               ]  60 of 98 complete "
       ]
      },
      {
       "output_type": "stream",
       "stream": "stdout",
       "text": [
        "\r",
        "[*****************62%****              ]  61 of 98 complete "
       ]
      },
      {
       "output_type": "stream",
       "stream": "stdout",
       "text": [
        "\r",
        "[*****************63%****              ]  62 of 98 complete "
       ]
      },
      {
       "output_type": "stream",
       "stream": "stdout",
       "text": [
        "\r",
        "[*****************64%****              ]  63 of 98 complete "
       ]
      },
      {
       "output_type": "stream",
       "stream": "stdout",
       "text": [
        "\r",
        "[*****************65%*****             ]  64 of 98 complete "
       ]
      },
      {
       "output_type": "stream",
       "stream": "stdout",
       "text": [
        "\r",
        "[*****************66%*****             ]  65 of 98 complete "
       ]
      },
      {
       "output_type": "stream",
       "stream": "stdout",
       "text": [
        "\r",
        "[*****************67%*****             ]  66 of 98 complete "
       ]
      },
      {
       "output_type": "stream",
       "stream": "stdout",
       "text": [
        "\r",
        "[*****************68%******            ]  67 of 98 complete "
       ]
      },
      {
       "output_type": "stream",
       "stream": "stdout",
       "text": [
        "\r",
        "[*****************69%******            ]  68 of 98 complete "
       ]
      },
      {
       "output_type": "stream",
       "stream": "stdout",
       "text": [
        "\r",
        "[*****************70%*******           ]  69 of 98 complete "
       ]
      },
      {
       "output_type": "stream",
       "stream": "stdout",
       "text": [
        "\r",
        "[*****************71%*******           ]  70 of 98 complete "
       ]
      },
      {
       "output_type": "stream",
       "stream": "stdout",
       "text": [
        "\r",
        "[*****************72%*******           ]  71 of 98 complete "
       ]
      },
      {
       "output_type": "stream",
       "stream": "stdout",
       "text": [
        "\r",
        "[*****************73%********          ]  72 of 98 complete "
       ]
      },
      {
       "output_type": "stream",
       "stream": "stdout",
       "text": [
        "\r",
        "[*****************74%********          ]  73 of 98 complete "
       ]
      },
      {
       "output_type": "stream",
       "stream": "stdout",
       "text": [
        "\r",
        "[*****************76%*********         ]  74 of 98 complete "
       ]
      },
      {
       "output_type": "stream",
       "stream": "stdout",
       "text": [
        "\r",
        "[*****************77%*********         ]  75 of 98 complete "
       ]
      },
      {
       "output_type": "stream",
       "stream": "stdout",
       "text": [
        "\r",
        "[*****************78%**********        ]  76 of 98 complete "
       ]
      },
      {
       "output_type": "stream",
       "stream": "stdout",
       "text": [
        "\r",
        "[*****************79%**********        ]  77 of 98 complete "
       ]
      },
      {
       "output_type": "stream",
       "stream": "stdout",
       "text": [
        "\r",
        "[*****************80%**********        ]  78 of 98 complete "
       ]
      },
      {
       "output_type": "stream",
       "stream": "stdout",
       "text": [
        "\r",
        "[*****************81%***********       ]  79 of 98 complete "
       ]
      },
      {
       "output_type": "stream",
       "stream": "stdout",
       "text": [
        "\r",
        "[*****************82%***********       ]  80 of 98 complete "
       ]
      },
      {
       "output_type": "stream",
       "stream": "stdout",
       "text": [
        "\r",
        "[*****************83%************      ]  81 of 98 complete "
       ]
      },
      {
       "output_type": "stream",
       "stream": "stdout",
       "text": [
        "\r",
        "[*****************84%************      ]  82 of 98 complete "
       ]
      },
      {
       "output_type": "stream",
       "stream": "stdout",
       "text": [
        "\r",
        "[*****************85%************      ]  83 of 98 complete "
       ]
      },
      {
       "output_type": "stream",
       "stream": "stdout",
       "text": [
        "\r",
        "[*****************86%*************     ]  84 of 98 complete "
       ]
      },
      {
       "output_type": "stream",
       "stream": "stdout",
       "text": [
        "\r",
        "[*****************87%*************     ]  85 of 98 complete "
       ]
      },
      {
       "output_type": "stream",
       "stream": "stdout",
       "text": [
        "\r",
        "[*****************88%*************     ]  86 of 98 complete "
       ]
      },
      {
       "output_type": "stream",
       "stream": "stdout",
       "text": [
        "\r",
        "[*****************89%**************    ]  87 of 98 complete "
       ]
      },
      {
       "output_type": "stream",
       "stream": "stdout",
       "text": [
        "\r",
        "[*****************90%**************    ]  88 of 98 complete "
       ]
      },
      {
       "output_type": "stream",
       "stream": "stdout",
       "text": [
        "\r",
        "[*****************91%***************   ]  89 of 98 complete "
       ]
      },
      {
       "output_type": "stream",
       "stream": "stdout",
       "text": [
        "\r",
        "[*****************92%***************   ]  90 of 98 complete "
       ]
      },
      {
       "output_type": "stream",
       "stream": "stdout",
       "text": [
        "\r",
        "[*****************93%***************   ]  91 of 98 complete "
       ]
      },
      {
       "output_type": "stream",
       "stream": "stdout",
       "text": [
        "\r",
        "[*****************94%****************  ]  92 of 98 complete "
       ]
      },
      {
       "output_type": "stream",
       "stream": "stdout",
       "text": [
        "\r",
        "[*****************95%****************  ]  93 of 98 complete "
       ]
      },
      {
       "output_type": "stream",
       "stream": "stdout",
       "text": [
        "\r",
        "[*****************96%****************  ]  94 of 98 complete "
       ]
      },
      {
       "output_type": "stream",
       "stream": "stdout",
       "text": [
        "\r",
        "[*****************97%***************** ]  95 of 98 complete "
       ]
      },
      {
       "output_type": "stream",
       "stream": "stdout",
       "text": [
        "\r",
        "[*****************98%***************** ]  96 of 98 complete "
       ]
      },
      {
       "output_type": "stream",
       "stream": "stdout",
       "text": [
        "\r",
        "[*****************99%******************]  97 of 98 complete "
       ]
      },
      {
       "output_type": "stream",
       "stream": "stdout",
       "text": [
        "\r",
        "[****************100%******************]  98 of 98 complete\n"
       ]
      }
     ],
     "prompt_number": 7
    },
    {
     "cell_type": "code",
     "collapsed": false,
     "input": [
      "# Extraction Examples\n",
      "fieldArray = numpy.asarray(fieldArray)\n",
      "\n",
      "\n",
      "seasonData1 = fieldArray[fieldArray[:,0]==1]\n",
      "siteData1  = fieldArray[fieldArray[:,1]==1]\n",
      "\n",
      "\n",
      "dateList = [datetime.datetime(1988,1,1) + relativedelta(months = 3 * (x - 1)) for x in range(seasonStart, seasonEnd)]\n",
      "\n",
      "\n",
      "pylab.plot(dateList,fieldArray[fieldArray[:,1]==1][:,2],'r')+plot(dateList,fieldArray[fieldArray[:,1]==1][:,3],'g')+plot(dateList,fieldArray[fieldArray[:,1]==1][:,4],'y')"
     ],
     "language": "python",
     "metadata": {},
     "outputs": [
      {
       "output_type": "pyout",
       "prompt_number": 8,
       "text": [
        "[<matplotlib.lines.Line2D at 0x7f88a0ea7650>,\n",
        " <matplotlib.lines.Line2D at 0x7f88a0ea7e10>,\n",
        " <matplotlib.lines.Line2D at 0x7f88a0d36590>]"
       ]
      },
      {
       "output_type": "display_data",
       "png": "[encoded data removed]"
      }
     ],
     "prompt_number": 8
    },
    {
     "cell_type": "code",
     "collapsed": false,
     "input": [
      "# Seasonal Specification\n",
      "dateList = [datetime.datetime(1988,2,1) + relativedelta(months = 3 * (x - 1)) for x in range(1, 100)]\n",
      "print \"From \" + dateList[0].strftime('%Y-%m-%d') + \" to \" + dateList[-1].strftime('%Y-%m-%d')\n",
      "\n",
      "# Connect to the field site fusion table: http://goo.gl/ui08FG\n",
      "fieldSites = ee.FeatureCollection('ft:1SBHVmJQkj-Y1Ye9Kyd5omXWm9D3BiTkk2om-8QaF')\n",
      "\n",
      "# Initialise the output array\n",
      "fieldArray = []\n",
      "\n",
      "# Build the combined reducer\n",
      "reducerMean = ee.Reducer.mean().forEach(['Bare_Mean','Green_Mean','Dead_Mean'])\n",
      "reducerSdev = ee.Reducer.stdDev().forEach(['Bare_StDev','Green_StDev','Dead_StDev'])\n",
      "reducerCombined = reducerMean.combine(reducerSdev, None, True)\n",
      "\n",
      "# Progress Bar\n",
      "pBar = progressBar(100)\n",
      "counter=0\n",
      "\n",
      "for midDate in dateList:\n",
      "    pBar.animate(counter)\n",
      "    counter+=1\n",
      "    # Unmix the image for the selected season\n",
      "    collection = 'LANDSAT/LT5_L1T_TOA' if midDate < datetime.datetime(2000,1,1)  else 'LANDSAT/LE7_L1T_TOA'\n",
      "    coverFractions = applyRSCtransforms(nominalMedian(collection,midDate)) \\\n",
      "    .unmix([end_bare,end_gren,end_dead]).select([\"band_0\",\"band_1\",\"band_2\"])\n",
      "    # Find the mean and standard deviation for all the sites\n",
      "    summarySites = coverFractions.reduceRegions(fieldSites, reducerCombined, 30).getInfo()['features']\n",
      "    # Extract the relevant data from the summary sites into an array\n",
      "    for site in summarySites:\n",
      "        siteData =  site['properties'] # The feature properties\n",
      "        fieldArray.append([int(midDate.strftime('%Y%m%d')),siteData['TARGET_FID'],siteData['Bare_Mean'],\\\n",
      "                           siteData['Green_Mean'],siteData['Dead_Mean'],\\\n",
      "                           siteData['Bare_StDev'],siteData['Green_StDev'],siteData['Dead_StDev']])\n"
     ],
     "language": "python",
     "metadata": {},
     "outputs": [
      {
       "output_type": "stream",
       "stream": "stdout",
       "text": [
        "From 1988-02-01 to 2012-08-01\n",
        "\r",
        "[                  0%                  ] "
       ]
      },
      {
       "output_type": "stream",
       "stream": "stdout",
       "text": [
        "\r",
        "[                  1%                  ]  1 of 100 complete "
       ]
      },
      {
       "output_type": "stream",
       "stream": "stdout",
       "text": [
        "\r",
        "[*                 2%                  ]  2 of 100 complete "
       ]
      },
      {
       "output_type": "stream",
       "stream": "stdout",
       "text": [
        "\r",
        "[*                 3%                  ]  3 of 100 complete "
       ]
      },
      {
       "output_type": "stream",
       "stream": "stdout",
       "text": [
        "\r",
        "[**                4%                  ]  4 of 100 complete "
       ]
      },
      {
       "output_type": "stream",
       "stream": "stdout",
       "text": [
        "\r",
        "[**                5%                  ]  5 of 100 complete "
       ]
      },
      {
       "output_type": "stream",
       "stream": "stdout",
       "text": [
        "\r",
        "[**                6%                  ]  6 of 100 complete "
       ]
      },
      {
       "output_type": "stream",
       "stream": "stdout",
       "text": [
        "\r",
        "[***               7%                  ]  7 of 100 complete "
       ]
      },
      {
       "output_type": "stream",
       "stream": "stdout",
       "text": [
        "\r",
        "[***               8%                  ]  8 of 100 complete "
       ]
      },
      {
       "output_type": "stream",
       "stream": "stdout",
       "text": [
        "\r",
        "[***               9%                  ]  9 of 100 complete "
       ]
      },
      {
       "output_type": "stream",
       "stream": "stdout",
       "text": [
        "\r",
        "[****             10%                  ]  10 of 100 complete "
       ]
      },
      {
       "output_type": "stream",
       "stream": "stdout",
       "text": [
        "\r",
        "[****             11%                  ]  11 of 100 complete "
       ]
      },
      {
       "output_type": "stream",
       "stream": "stdout",
       "text": [
        "\r",
        "[*****            12%                  ]  12 of 100 complete "
       ]
      },
      {
       "output_type": "stream",
       "stream": "stdout",
       "text": [
        "\r",
        "[*****            13%                  ]  13 of 100 complete "
       ]
      },
      {
       "output_type": "stream",
       "stream": "stdout",
       "text": [
        "\r",
        "[*****            14%                  ]  14 of 100 complete "
       ]
      },
      {
       "output_type": "stream",
       "stream": "stdout",
       "text": [
        "\r",
        "[******           15%                  ]  15 of 100 complete "
       ]
      },
      {
       "output_type": "stream",
       "stream": "stdout",
       "text": [
        "\r",
        "[******           16%                  ]  16 of 100 complete "
       ]
      },
      {
       "output_type": "stream",
       "stream": "stdout",
       "text": [
        "\r",
        "[******           17%                  ]  17 of 100 complete "
       ]
      },
      {
       "output_type": "stream",
       "stream": "stdout",
       "text": [
        "\r",
        "[*******          18%                  ]  18 of 100 complete "
       ]
      },
      {
       "output_type": "stream",
       "stream": "stdout",
       "text": [
        "\r",
        "[*******          19%                  ]  19 of 100 complete "
       ]
      },
      {
       "output_type": "stream",
       "stream": "stdout",
       "text": [
        "\r",
        "[********         20%                  ]  20 of 100 complete "
       ]
      },
      {
       "output_type": "stream",
       "stream": "stdout",
       "text": [
        "\r",
        "[********         21%                  ]  21 of 100 complete "
       ]
      },
      {
       "output_type": "stream",
       "stream": "stdout",
       "text": [
        "\r",
        "[********         22%                  ]  22 of 100 complete "
       ]
      },
      {
       "output_type": "stream",
       "stream": "stdout",
       "text": [
        "\r",
        "[*********        23%                  ]  23 of 100 complete "
       ]
      },
      {
       "output_type": "stream",
       "stream": "stdout",
       "text": [
        "\r",
        "[*********        24%                  ]  24 of 100 complete "
       ]
      },
      {
       "output_type": "stream",
       "stream": "stdout",
       "text": [
        "\r",
        "[**********       25%                  ]  25 of 100 complete "
       ]
      },
      {
       "output_type": "stream",
       "stream": "stdout",
       "text": [
        "\r",
        "[**********       26%                  ]  26 of 100 complete "
       ]
      },
      {
       "output_type": "stream",
       "stream": "stdout",
       "text": [
        "\r",
        "[**********       27%                  ]  27 of 100 complete "
       ]
      },
      {
       "output_type": "stream",
       "stream": "stdout",
       "text": [
        "\r",
        "[***********      28%                  ]  28 of 100 complete "
       ]
      },
      {
       "output_type": "stream",
       "stream": "stdout",
       "text": [
        "\r",
        "[***********      29%                  ]  29 of 100 complete "
       ]
      },
      {
       "output_type": "stream",
       "stream": "stdout",
       "text": [
        "\r",
        "[***********      30%                  ]  30 of 100 complete "
       ]
      },
      {
       "output_type": "stream",
       "stream": "stdout",
       "text": [
        "\r",
        "[************     31%                  ]  31 of 100 complete "
       ]
      },
      {
       "output_type": "stream",
       "stream": "stdout",
       "text": [
        "\r",
        "[************     32%                  ]  32 of 100 complete "
       ]
      },
      {
       "output_type": "stream",
       "stream": "stdout",
       "text": [
        "\r",
        "[*************    33%                  ]  33 of 100 complete "
       ]
      },
      {
       "output_type": "stream",
       "stream": "stdout",
       "text": [
        "\r",
        "[*************    34%                  ]  34 of 100 complete "
       ]
      },
      {
       "output_type": "stream",
       "stream": "stdout",
       "text": [
        "\r",
        "[*************    35%                  ]  35 of 100 complete "
       ]
      },
      {
       "output_type": "stream",
       "stream": "stdout",
       "text": [
        "\r",
        "[**************   36%                  ]  36 of 100 complete "
       ]
      },
      {
       "output_type": "stream",
       "stream": "stdout",
       "text": [
        "\r",
        "[**************   37%                  ]  37 of 100 complete "
       ]
      },
      {
       "output_type": "stream",
       "stream": "stdout",
       "text": [
        "\r",
        "[**************   38%                  ]  38 of 100 complete "
       ]
      },
      {
       "output_type": "stream",
       "stream": "stdout",
       "text": [
        "\r",
        "[***************  39%                  ]  39 of 100 complete "
       ]
      },
      {
       "output_type": "stream",
       "stream": "stdout",
       "text": [
        "\r",
        "[***************  40%                  ]  40 of 100 complete "
       ]
      },
      {
       "output_type": "stream",
       "stream": "stdout",
       "text": [
        "\r",
        "[**************** 41%                  ]  41 of 100 complete "
       ]
      },
      {
       "output_type": "stream",
       "stream": "stdout",
       "text": [
        "\r",
        "[**************** 42%                  ]  42 of 100 complete "
       ]
      },
      {
       "output_type": "stream",
       "stream": "stdout",
       "text": [
        "\r",
        "[**************** 43%                  ]  43 of 100 complete "
       ]
      },
      {
       "output_type": "stream",
       "stream": "stdout",
       "text": [
        "\r",
        "[*****************44%                  ]  44 of 100 complete "
       ]
      },
      {
       "output_type": "stream",
       "stream": "stdout",
       "text": [
        "\r",
        "[*****************45%                  ]  45 of 100 complete "
       ]
      },
      {
       "output_type": "stream",
       "stream": "stdout",
       "text": [
        "\r",
        "[*****************46%                  ]  46 of 100 complete "
       ]
      },
      {
       "output_type": "stream",
       "stream": "stdout",
       "text": [
        "\r",
        "[*****************47%                  ]  47 of 100 complete "
       ]
      },
      {
       "output_type": "stream",
       "stream": "stdout",
       "text": [
        "\r",
        "[*****************48%                  ]  48 of 100 complete "
       ]
      },
      {
       "output_type": "stream",
       "stream": "stdout",
       "text": [
        "\r",
        "[*****************49%                  ]  49 of 100 complete "
       ]
      },
      {
       "output_type": "stream",
       "stream": "stdout",
       "text": [
        "\r",
        "[*****************50%                  ]  50 of 100 complete "
       ]
      },
      {
       "output_type": "stream",
       "stream": "stdout",
       "text": [
        "\r",
        "[*****************51%                  ]  51 of 100 complete "
       ]
      },
      {
       "output_type": "stream",
       "stream": "stdout",
       "text": [
        "\r",
        "[*****************52%                  ]  52 of 100 complete "
       ]
      },
      {
       "output_type": "stream",
       "stream": "stdout",
       "text": [
        "\r",
        "[*****************53%                  ]  53 of 100 complete "
       ]
      },
      {
       "output_type": "stream",
       "stream": "stdout",
       "text": [
        "\r",
        "[*****************54%*                 ]  54 of 100 complete "
       ]
      },
      {
       "output_type": "stream",
       "stream": "stdout",
       "text": [
        "\r",
        "[*****************55%*                 ]  55 of 100 complete "
       ]
      },
      {
       "output_type": "stream",
       "stream": "stdout",
       "text": [
        "\r",
        "[*****************56%*                 ]  56 of 100 complete "
       ]
      },
      {
       "output_type": "stream",
       "stream": "stdout",
       "text": [
        "\r",
        "[*****************57%**                ]  57 of 100 complete "
       ]
      },
      {
       "output_type": "stream",
       "stream": "stdout",
       "text": [
        "\r",
        "[*****************58%**                ]  58 of 100 complete "
       ]
      },
      {
       "output_type": "stream",
       "stream": "stdout",
       "text": [
        "\r",
        "[*****************59%**                ]  59 of 100 complete "
       ]
      },
      {
       "output_type": "stream",
       "stream": "stdout",
       "text": [
        "\r",
        "[*****************60%***               ]  60 of 100 complete "
       ]
      },
      {
       "output_type": "stream",
       "stream": "stdout",
       "text": [
        "\r",
        "[*****************61%***               ]  61 of 100 complete "
       ]
      },
      {
       "output_type": "stream",
       "stream": "stdout",
       "text": [
        "\r",
        "[*****************62%****              ]  62 of 100 complete "
       ]
      },
      {
       "output_type": "stream",
       "stream": "stdout",
       "text": [
        "\r",
        "[*****************63%****              ]  63 of 100 complete "
       ]
      },
      {
       "output_type": "stream",
       "stream": "stdout",
       "text": [
        "\r",
        "[*****************64%****              ]  64 of 100 complete "
       ]
      },
      {
       "output_type": "stream",
       "stream": "stdout",
       "text": [
        "\r",
        "[*****************65%*****             ]  65 of 100 complete "
       ]
      },
      {
       "output_type": "stream",
       "stream": "stdout",
       "text": [
        "\r",
        "[*****************66%*****             ]  66 of 100 complete "
       ]
      },
      {
       "output_type": "stream",
       "stream": "stdout",
       "text": [
        "\r",
        "[*****************67%*****             ]  67 of 100 complete "
       ]
      },
      {
       "output_type": "stream",
       "stream": "stdout",
       "text": [
        "\r",
        "[*****************68%******            ]  68 of 100 complete "
       ]
      },
      {
       "output_type": "stream",
       "stream": "stdout",
       "text": [
        "\r",
        "[*****************69%******            ]  69 of 100 complete "
       ]
      },
      {
       "output_type": "stream",
       "stream": "stdout",
       "text": [
        "\r",
        "[*****************70%*******           ]  70 of 100 complete "
       ]
      },
      {
       "output_type": "stream",
       "stream": "stdout",
       "text": [
        "\r",
        "[*****************71%*******           ]  71 of 100 complete "
       ]
      },
      {
       "output_type": "stream",
       "stream": "stdout",
       "text": [
        "\r",
        "[*****************72%*******           ]  72 of 100 complete "
       ]
      },
      {
       "output_type": "stream",
       "stream": "stdout",
       "text": [
        "\r",
        "[*****************73%********          ]  73 of 100 complete "
       ]
      },
      {
       "output_type": "stream",
       "stream": "stdout",
       "text": [
        "\r",
        "[*****************74%********          ]  74 of 100 complete "
       ]
      },
      {
       "output_type": "stream",
       "stream": "stdout",
       "text": [
        "\r",
        "[*****************75%*********         ]  75 of 100 complete "
       ]
      },
      {
       "output_type": "stream",
       "stream": "stdout",
       "text": [
        "\r",
        "[*****************76%*********         ]  76 of 100 complete "
       ]
      },
      {
       "output_type": "stream",
       "stream": "stdout",
       "text": [
        "\r",
        "[*****************77%*********         ]  77 of 100 complete "
       ]
      },
      {
       "output_type": "stream",
       "stream": "stdout",
       "text": [
        "\r",
        "[*****************78%**********        ]  78 of 100 complete "
       ]
      },
      {
       "output_type": "stream",
       "stream": "stdout",
       "text": [
        "\r",
        "[*****************79%**********        ]  79 of 100 complete "
       ]
      },
      {
       "output_type": "stream",
       "stream": "stdout",
       "text": [
        "\r",
        "[*****************80%**********        ]  80 of 100 complete "
       ]
      },
      {
       "output_type": "stream",
       "stream": "stdout",
       "text": [
        "\r",
        "[*****************81%***********       ]  81 of 100 complete "
       ]
      },
      {
       "output_type": "stream",
       "stream": "stdout",
       "text": [
        "\r",
        "[*****************82%***********       ]  82 of 100 complete "
       ]
      },
      {
       "output_type": "stream",
       "stream": "stdout",
       "text": [
        "\r",
        "[*****************83%************      ]  83 of 100 complete "
       ]
      },
      {
       "output_type": "stream",
       "stream": "stdout",
       "text": [
        "\r",
        "[*****************84%************      ]  84 of 100 complete "
       ]
      },
      {
       "output_type": "stream",
       "stream": "stdout",
       "text": [
        "\r",
        "[*****************85%************      ]  85 of 100 complete "
       ]
      },
      {
       "output_type": "stream",
       "stream": "stdout",
       "text": [
        "\r",
        "[*****************86%*************     ]  86 of 100 complete "
       ]
      },
      {
       "output_type": "stream",
       "stream": "stdout",
       "text": [
        "\r",
        "[*****************87%*************     ]  87 of 100 complete "
       ]
      },
      {
       "output_type": "stream",
       "stream": "stdout",
       "text": [
        "\r",
        "[*****************88%*************     ]  88 of 100 complete "
       ]
      },
      {
       "output_type": "stream",
       "stream": "stdout",
       "text": [
        "\r",
        "[*****************89%**************    ]  89 of 100 complete "
       ]
      },
      {
       "output_type": "stream",
       "stream": "stdout",
       "text": [
        "\r",
        "[*****************90%**************    ]  90 of 100 complete "
       ]
      },
      {
       "output_type": "stream",
       "stream": "stdout",
       "text": [
        "\r",
        "[*****************91%***************   ]  91 of 100 complete "
       ]
      },
      {
       "output_type": "stream",
       "stream": "stdout",
       "text": [
        "\r",
        "[*****************92%***************   ]  92 of 100 complete "
       ]
      },
      {
       "output_type": "stream",
       "stream": "stdout",
       "text": [
        "\r",
        "[*****************93%***************   ]  93 of 100 complete "
       ]
      },
      {
       "output_type": "stream",
       "stream": "stdout",
       "text": [
        "\r",
        "[*****************94%****************  ]  94 of 100 complete "
       ]
      },
      {
       "output_type": "stream",
       "stream": "stdout",
       "text": [
        "\r",
        "[*****************95%****************  ]  95 of 100 complete "
       ]
      },
      {
       "output_type": "stream",
       "stream": "stdout",
       "text": [
        "\r",
        "[*****************96%****************  ]  96 of 100 complete "
       ]
      },
      {
       "output_type": "stream",
       "stream": "stdout",
       "text": [
        "\r",
        "[*****************97%***************** ]  97 of 100 complete "
       ]
      },
      {
       "output_type": "stream",
       "stream": "stdout",
       "text": [
        "\r",
        "[*****************98%***************** ]  98 of 100 complete\n"
       ]
      }
     ],
     "prompt_number": 11
    },
    {
     "cell_type": "code",
     "collapsed": false,
     "input": [
      "fieldArray = numpy.asarray(fieldArray)\n",
      "pylab.plot(dateList,fieldArray[fieldArray[:,1]==1][:,2],'r')+pylab.plot(dateList,fieldArray[fieldArray[:,1]==1][:,3],'g')+pylab.plot(dateList,fieldArray[fieldArray[:,1]==1][:,4],'y')"
     ],
     "language": "python",
     "metadata": {},
     "outputs": [
      {
       "output_type": "pyout",
       "prompt_number": 12,
       "text": [
        "[<matplotlib.lines.Line2D at 0x7f88a0d48490>,\n",
        " <matplotlib.lines.Line2D at 0x7f88a0ea7a10>,\n",
        " <matplotlib.lines.Line2D at 0x7f88a0ea71d0>]"
       ]
      },
      {
       "output_type": "display_data",
       "png": "[encoded data removed]"
      }
     ],
     "prompt_number": 12
    },
    {
     "cell_type": "code",
     "collapsed": false,
     "input": [
      "fieldArray = numpy.asarray(fieldArray)\n",
      "pylab.plot(dateList,fieldArray[fieldArray[:,1]==1][:,2],'r')+pylab.plot(dateList,fieldArray[fieldArray[:,1]==1][:,3],'g')+pylab.plot(dateList,fieldArray[fieldArray[:,1]==1][:,4],'y')"
     ],
     "language": "python",
     "metadata": {},
     "outputs": [
      {
       "output_type": "pyout",
       "prompt_number": 10,
       "text": [
        "[<matplotlib.lines.Line2D at 0x7f88a0d1edd0>,\n",
        " <matplotlib.lines.Line2D at 0x7f88a0d1e410>,\n",
        " <matplotlib.lines.Line2D at 0x389a8d0>]"
       ]
      },
      {
       "output_type": "display_data",
       "png": "[encoded data removed]"
      }
     ],
     "prompt_number": 10
    },
    {
     "cell_type": "code",
     "collapsed": false,
     "input": [],
     "language": "python",
     "metadata": {},
     "outputs": [],
     "prompt_number": 10
    },
    {
     "cell_type": "code",
     "collapsed": false,
     "input": [],
     "language": "python",
     "metadata": {},
     "outputs": []
    }
   ],
   "metadata": {}
  }
 ]
}